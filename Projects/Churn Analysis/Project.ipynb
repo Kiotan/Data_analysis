{
 "cells": [
  {
   "cell_type": "markdown",
   "id": "172e290e",
   "metadata": {},
   "source": [
    "# Материалы"
   ]
  },
  {
   "cell_type": "markdown",
   "id": "e0f89998",
   "metadata": {},
   "source": [
    "Ссылка на презентацию https://docs.google.com/presentation/d/1v-esMVou2DODzZo9BMP23SguRaxjA-AwZIjmErBpqJk/edit?usp=sharing"
   ]
  },
  {
   "cell_type": "markdown",
   "id": "9fb6ddbd",
   "metadata": {},
   "source": [
    "# Анализ оттока клиентов банка \"Метанпром\""
   ]
  },
  {
   "cell_type": "markdown",
   "id": "89ac6d6f",
   "metadata": {},
   "source": [
    "Задача:\n",
    "- Проанализируйте клиентов регионального банка и выделите сегменты клиентов,\n",
    "которые склонны уходить из банка.\n",
    "- Проведите исследовательский анализ данных, определите все значимые\n",
    "признаки отточности (интервалы значений характеристик, которые связаны с\n",
    "повышенным оттоком, сравните портреты типичных клиентов, которые\n",
    "склонны и не склонны уходить из банка и т.д)\n",
    "- Сформулируйте и проверьте статистические гипотезы.\n",
    "- Проверьте гипотезу различия дохода между теми клиентами, которые\n",
    "ушли и теми, которые остались.\n",
    "- Сформулируйте и проверьте статистическую гипотезу относительно\n",
    "представленных данных, которая поможет внести ясность в исследование\n",
    "- Объединяя признаки отточности, сформируйте сегменты, отберите из них\n",
    "лучшие и дайте по ним рекомендации"
   ]
  },
  {
   "cell_type": "markdown",
   "id": "8f067236",
   "metadata": {},
   "source": [
    "Выполнение задач будет осуществлено через следующие шаги:\n",
    "1. Подготовка данных\n",
    "- Импорт библиотек и загрузка данных\n",
    "- Обработка таблицы\n",
    "- Обработка пропусков\n",
    "2. Исследовательский анализ данных\n",
    "- Категоризация данных\n",
    "- Анализ оттока по собственности\n",
    "- Анализ оттока по последней активности\n",
    "- Анализ оттока по кредитным картам\n",
    "- Анализ оттока по полу\n",
    "- Анализ оттока по рейтингу\n",
    "3. Статистический анализ данных\n",
    "- Различие дохода между отточными и оставшимися клиентами\n",
    "- Различие рейтинга между отточными и оставшимися пользователями\n",
    "4. Сегментация\n",
    "5. Вывод и рекомендации для отдела менеджмента"
   ]
  },
  {
   "cell_type": "markdown",
   "id": "802fed80",
   "metadata": {},
   "source": [
    "## Подготовка данных"
   ]
  },
  {
   "cell_type": "markdown",
   "id": "cad253e2",
   "metadata": {},
   "source": [
    "### Импорт библиотеки и загрузка данных."
   ]
  },
  {
   "cell_type": "code",
   "execution_count": 41,
   "id": "cacf8f12",
   "metadata": {},
   "outputs": [],
   "source": [
    "#Импортируем библиотеки\n",
    "import pandas as pd\n",
    "import numpy as np\n",
    "import seaborn as sns\n",
    "import matplotlib.pyplot as plt\n",
    "from scipy import stats as st"
   ]
  },
  {
   "cell_type": "code",
   "execution_count": 42,
   "id": "f287fd9b",
   "metadata": {},
   "outputs": [
    {
     "data": {
      "text/html": [
       "<div>\n",
       "<style scoped>\n",
       "    .dataframe tbody tr th:only-of-type {\n",
       "        vertical-align: middle;\n",
       "    }\n",
       "\n",
       "    .dataframe tbody tr th {\n",
       "        vertical-align: top;\n",
       "    }\n",
       "\n",
       "    .dataframe thead th {\n",
       "        text-align: right;\n",
       "    }\n",
       "</style>\n",
       "<table border=\"1\" class=\"dataframe\">\n",
       "  <thead>\n",
       "    <tr style=\"text-align: right;\">\n",
       "      <th></th>\n",
       "      <th>USERID</th>\n",
       "      <th>score</th>\n",
       "      <th>city</th>\n",
       "      <th>gender</th>\n",
       "      <th>age</th>\n",
       "      <th>equity</th>\n",
       "      <th>balance</th>\n",
       "      <th>products</th>\n",
       "      <th>credit_card</th>\n",
       "      <th>last_activity</th>\n",
       "      <th>EST_SALARY</th>\n",
       "      <th>churn</th>\n",
       "    </tr>\n",
       "  </thead>\n",
       "  <tbody>\n",
       "    <tr>\n",
       "      <th>3950</th>\n",
       "      <td>139579</td>\n",
       "      <td>703.0</td>\n",
       "      <td>Ярославль</td>\n",
       "      <td>Ж</td>\n",
       "      <td>47.0</td>\n",
       "      <td>0</td>\n",
       "      <td>NaN</td>\n",
       "      <td>1</td>\n",
       "      <td>1</td>\n",
       "      <td>1</td>\n",
       "      <td>215176.31</td>\n",
       "      <td>0</td>\n",
       "    </tr>\n",
       "    <tr>\n",
       "      <th>2834</th>\n",
       "      <td>123576</td>\n",
       "      <td>944.0</td>\n",
       "      <td>Ярославль</td>\n",
       "      <td>М</td>\n",
       "      <td>40.0</td>\n",
       "      <td>0</td>\n",
       "      <td>NaN</td>\n",
       "      <td>1</td>\n",
       "      <td>0</td>\n",
       "      <td>0</td>\n",
       "      <td>246002.87</td>\n",
       "      <td>0</td>\n",
       "    </tr>\n",
       "    <tr>\n",
       "      <th>8471</th>\n",
       "      <td>196227</td>\n",
       "      <td>884.0</td>\n",
       "      <td>Ярославль</td>\n",
       "      <td>М</td>\n",
       "      <td>38.0</td>\n",
       "      <td>5</td>\n",
       "      <td>1374883.95</td>\n",
       "      <td>2</td>\n",
       "      <td>1</td>\n",
       "      <td>0</td>\n",
       "      <td>285187.38</td>\n",
       "      <td>0</td>\n",
       "    </tr>\n",
       "    <tr>\n",
       "      <th>8661</th>\n",
       "      <td>166838</td>\n",
       "      <td>816.0</td>\n",
       "      <td>Ярославль</td>\n",
       "      <td>М</td>\n",
       "      <td>24.0</td>\n",
       "      <td>4</td>\n",
       "      <td>541801.19</td>\n",
       "      <td>2</td>\n",
       "      <td>1</td>\n",
       "      <td>1</td>\n",
       "      <td>61707.08</td>\n",
       "      <td>1</td>\n",
       "    </tr>\n",
       "    <tr>\n",
       "      <th>9712</th>\n",
       "      <td>220945</td>\n",
       "      <td>889.0</td>\n",
       "      <td>Рыбинск</td>\n",
       "      <td>Ж</td>\n",
       "      <td>30.0</td>\n",
       "      <td>0</td>\n",
       "      <td>106192.92</td>\n",
       "      <td>2</td>\n",
       "      <td>1</td>\n",
       "      <td>1</td>\n",
       "      <td>144283.61</td>\n",
       "      <td>0</td>\n",
       "    </tr>\n",
       "    <tr>\n",
       "      <th>2079</th>\n",
       "      <td>147454</td>\n",
       "      <td>814.0</td>\n",
       "      <td>Рыбинск</td>\n",
       "      <td>Ж</td>\n",
       "      <td>35.0</td>\n",
       "      <td>3</td>\n",
       "      <td>660875.88</td>\n",
       "      <td>2</td>\n",
       "      <td>1</td>\n",
       "      <td>0</td>\n",
       "      <td>101574.11</td>\n",
       "      <td>0</td>\n",
       "    </tr>\n",
       "    <tr>\n",
       "      <th>5829</th>\n",
       "      <td>133082</td>\n",
       "      <td>892.0</td>\n",
       "      <td>Ярославль</td>\n",
       "      <td>М</td>\n",
       "      <td>37.0</td>\n",
       "      <td>5</td>\n",
       "      <td>2442481.15</td>\n",
       "      <td>2</td>\n",
       "      <td>1</td>\n",
       "      <td>0</td>\n",
       "      <td>168850.28</td>\n",
       "      <td>0</td>\n",
       "    </tr>\n",
       "    <tr>\n",
       "      <th>3453</th>\n",
       "      <td>142485</td>\n",
       "      <td>867.0</td>\n",
       "      <td>Ярославль</td>\n",
       "      <td>М</td>\n",
       "      <td>34.0</td>\n",
       "      <td>4</td>\n",
       "      <td>936318.53</td>\n",
       "      <td>2</td>\n",
       "      <td>1</td>\n",
       "      <td>1</td>\n",
       "      <td>151838.57</td>\n",
       "      <td>1</td>\n",
       "    </tr>\n",
       "    <tr>\n",
       "      <th>6527</th>\n",
       "      <td>125922</td>\n",
       "      <td>850.0</td>\n",
       "      <td>Ярославль</td>\n",
       "      <td>М</td>\n",
       "      <td>39.0</td>\n",
       "      <td>4</td>\n",
       "      <td>420340.85</td>\n",
       "      <td>2</td>\n",
       "      <td>1</td>\n",
       "      <td>0</td>\n",
       "      <td>148368.34</td>\n",
       "      <td>0</td>\n",
       "    </tr>\n",
       "    <tr>\n",
       "      <th>3188</th>\n",
       "      <td>153531</td>\n",
       "      <td>827.0</td>\n",
       "      <td>Рыбинск</td>\n",
       "      <td>М</td>\n",
       "      <td>56.0</td>\n",
       "      <td>4</td>\n",
       "      <td>470699.76</td>\n",
       "      <td>2</td>\n",
       "      <td>0</td>\n",
       "      <td>1</td>\n",
       "      <td>115944.08</td>\n",
       "      <td>0</td>\n",
       "    </tr>\n",
       "    <tr>\n",
       "      <th>1038</th>\n",
       "      <td>158102</td>\n",
       "      <td>711.0</td>\n",
       "      <td>Ярославль</td>\n",
       "      <td>Ж</td>\n",
       "      <td>21.0</td>\n",
       "      <td>0</td>\n",
       "      <td>NaN</td>\n",
       "      <td>1</td>\n",
       "      <td>1</td>\n",
       "      <td>0</td>\n",
       "      <td>81648.72</td>\n",
       "      <td>0</td>\n",
       "    </tr>\n",
       "    <tr>\n",
       "      <th>6573</th>\n",
       "      <td>208835</td>\n",
       "      <td>710.0</td>\n",
       "      <td>Ярославль</td>\n",
       "      <td>М</td>\n",
       "      <td>66.0</td>\n",
       "      <td>0</td>\n",
       "      <td>NaN</td>\n",
       "      <td>1</td>\n",
       "      <td>1</td>\n",
       "      <td>1</td>\n",
       "      <td>162380.18</td>\n",
       "      <td>0</td>\n",
       "    </tr>\n",
       "    <tr>\n",
       "      <th>8080</th>\n",
       "      <td>216261</td>\n",
       "      <td>823.0</td>\n",
       "      <td>Рыбинск</td>\n",
       "      <td>Ж</td>\n",
       "      <td>40.0</td>\n",
       "      <td>5</td>\n",
       "      <td>730480.03</td>\n",
       "      <td>2</td>\n",
       "      <td>0</td>\n",
       "      <td>1</td>\n",
       "      <td>226825.22</td>\n",
       "      <td>0</td>\n",
       "    </tr>\n",
       "    <tr>\n",
       "      <th>5431</th>\n",
       "      <td>140677</td>\n",
       "      <td>769.0</td>\n",
       "      <td>Ярославль</td>\n",
       "      <td>Ж</td>\n",
       "      <td>61.0</td>\n",
       "      <td>0</td>\n",
       "      <td>324286.49</td>\n",
       "      <td>1</td>\n",
       "      <td>1</td>\n",
       "      <td>1</td>\n",
       "      <td>73842.43</td>\n",
       "      <td>0</td>\n",
       "    </tr>\n",
       "    <tr>\n",
       "      <th>9175</th>\n",
       "      <td>200863</td>\n",
       "      <td>832.0</td>\n",
       "      <td>Ярославль</td>\n",
       "      <td>М</td>\n",
       "      <td>42.0</td>\n",
       "      <td>5</td>\n",
       "      <td>620064.73</td>\n",
       "      <td>2</td>\n",
       "      <td>0</td>\n",
       "      <td>0</td>\n",
       "      <td>188054.46</td>\n",
       "      <td>0</td>\n",
       "    </tr>\n",
       "  </tbody>\n",
       "</table>\n",
       "</div>"
      ],
      "text/plain": [
       "      USERID  score       city gender   age  equity     balance  products  \\\n",
       "3950  139579  703.0  Ярославль      Ж  47.0       0         NaN         1   \n",
       "2834  123576  944.0  Ярославль      М  40.0       0         NaN         1   \n",
       "8471  196227  884.0  Ярославль      М  38.0       5  1374883.95         2   \n",
       "8661  166838  816.0  Ярославль      М  24.0       4   541801.19         2   \n",
       "9712  220945  889.0    Рыбинск      Ж  30.0       0   106192.92         2   \n",
       "2079  147454  814.0    Рыбинск      Ж  35.0       3   660875.88         2   \n",
       "5829  133082  892.0  Ярославль      М  37.0       5  2442481.15         2   \n",
       "3453  142485  867.0  Ярославль      М  34.0       4   936318.53         2   \n",
       "6527  125922  850.0  Ярославль      М  39.0       4   420340.85         2   \n",
       "3188  153531  827.0    Рыбинск      М  56.0       4   470699.76         2   \n",
       "1038  158102  711.0  Ярославль      Ж  21.0       0         NaN         1   \n",
       "6573  208835  710.0  Ярославль      М  66.0       0         NaN         1   \n",
       "8080  216261  823.0    Рыбинск      Ж  40.0       5   730480.03         2   \n",
       "5431  140677  769.0  Ярославль      Ж  61.0       0   324286.49         1   \n",
       "9175  200863  832.0  Ярославль      М  42.0       5   620064.73         2   \n",
       "\n",
       "      credit_card  last_activity  EST_SALARY  churn  \n",
       "3950            1              1   215176.31      0  \n",
       "2834            0              0   246002.87      0  \n",
       "8471            1              0   285187.38      0  \n",
       "8661            1              1    61707.08      1  \n",
       "9712            1              1   144283.61      0  \n",
       "2079            1              0   101574.11      0  \n",
       "5829            1              0   168850.28      0  \n",
       "3453            1              1   151838.57      1  \n",
       "6527            1              0   148368.34      0  \n",
       "3188            0              1   115944.08      0  \n",
       "1038            1              0    81648.72      0  \n",
       "6573            1              1   162380.18      0  \n",
       "8080            0              1   226825.22      0  \n",
       "5431            1              1    73842.43      0  \n",
       "9175            0              0   188054.46      0  "
      ]
     },
     "execution_count": 42,
     "metadata": {},
     "output_type": "execute_result"
    }
   ],
   "source": [
    "#Загружаем данные, смотрим случайны записи в таблице\n",
    "df = pd.read_csv('https://code.s3.yandex.net/datasets/bank_scrooge.csv')\n",
    "df.sample(15)"
   ]
  },
  {
   "cell_type": "code",
   "execution_count": 43,
   "id": "f3786442",
   "metadata": {},
   "outputs": [
    {
     "name": "stdout",
     "output_type": "stream",
     "text": [
      "<class 'pandas.core.frame.DataFrame'>\n",
      "RangeIndex: 10000 entries, 0 to 9999\n",
      "Data columns (total 12 columns):\n",
      " #   Column         Non-Null Count  Dtype  \n",
      "---  ------         --------------  -----  \n",
      " 0   USERID         10000 non-null  int64  \n",
      " 1   score          10000 non-null  float64\n",
      " 2   city           10000 non-null  object \n",
      " 3   gender         10000 non-null  object \n",
      " 4   age            9974 non-null   float64\n",
      " 5   equity         10000 non-null  int64  \n",
      " 6   balance        7705 non-null   float64\n",
      " 7   products       10000 non-null  int64  \n",
      " 8   credit_card    10000 non-null  int64  \n",
      " 9   last_activity  10000 non-null  int64  \n",
      " 10  EST_SALARY     10000 non-null  float64\n",
      " 11  churn          10000 non-null  int64  \n",
      "dtypes: float64(4), int64(6), object(2)\n",
      "memory usage: 937.6+ KB\n"
     ]
    }
   ],
   "source": [
    "#Проверим типы данных и количество пропусков в таблице\n",
    "df.info()"
   ]
  },
  {
   "cell_type": "code",
   "execution_count": 44,
   "id": "7d561e61",
   "metadata": {},
   "outputs": [
    {
     "data": {
      "text/html": [
       "<div>\n",
       "<style scoped>\n",
       "    .dataframe tbody tr th:only-of-type {\n",
       "        vertical-align: middle;\n",
       "    }\n",
       "\n",
       "    .dataframe tbody tr th {\n",
       "        vertical-align: top;\n",
       "    }\n",
       "\n",
       "    .dataframe thead th {\n",
       "        text-align: right;\n",
       "    }\n",
       "</style>\n",
       "<table border=\"1\" class=\"dataframe\">\n",
       "  <thead>\n",
       "    <tr style=\"text-align: right;\">\n",
       "      <th></th>\n",
       "      <th>USERID</th>\n",
       "      <th>score</th>\n",
       "      <th>age</th>\n",
       "      <th>equity</th>\n",
       "      <th>balance</th>\n",
       "      <th>products</th>\n",
       "      <th>credit_card</th>\n",
       "      <th>last_activity</th>\n",
       "      <th>EST_SALARY</th>\n",
       "      <th>churn</th>\n",
       "    </tr>\n",
       "  </thead>\n",
       "  <tbody>\n",
       "    <tr>\n",
       "      <th>count</th>\n",
       "      <td>10000.00000</td>\n",
       "      <td>10000.000000</td>\n",
       "      <td>9974.000000</td>\n",
       "      <td>10000.000000</td>\n",
       "      <td>7.705000e+03</td>\n",
       "      <td>10000.000000</td>\n",
       "      <td>10000.000000</td>\n",
       "      <td>10000.000000</td>\n",
       "      <td>1.000000e+04</td>\n",
       "      <td>10000.000000</td>\n",
       "    </tr>\n",
       "    <tr>\n",
       "      <th>mean</th>\n",
       "      <td>171814.71260</td>\n",
       "      <td>848.699400</td>\n",
       "      <td>42.734409</td>\n",
       "      <td>2.627600</td>\n",
       "      <td>8.277943e+05</td>\n",
       "      <td>1.870100</td>\n",
       "      <td>0.680400</td>\n",
       "      <td>0.523500</td>\n",
       "      <td>1.478669e+05</td>\n",
       "      <td>0.182000</td>\n",
       "    </tr>\n",
       "    <tr>\n",
       "      <th>std</th>\n",
       "      <td>33708.23812</td>\n",
       "      <td>65.448519</td>\n",
       "      <td>12.179971</td>\n",
       "      <td>1.980836</td>\n",
       "      <td>1.980614e+06</td>\n",
       "      <td>0.792647</td>\n",
       "      <td>0.466345</td>\n",
       "      <td>0.499472</td>\n",
       "      <td>1.393885e+05</td>\n",
       "      <td>0.385864</td>\n",
       "    </tr>\n",
       "    <tr>\n",
       "      <th>min</th>\n",
       "      <td>94561.00000</td>\n",
       "      <td>642.000000</td>\n",
       "      <td>18.000000</td>\n",
       "      <td>0.000000</td>\n",
       "      <td>0.000000e+00</td>\n",
       "      <td>0.000000</td>\n",
       "      <td>0.000000</td>\n",
       "      <td>0.000000</td>\n",
       "      <td>2.546300e+03</td>\n",
       "      <td>0.000000</td>\n",
       "    </tr>\n",
       "    <tr>\n",
       "      <th>25%</th>\n",
       "      <td>142810.25000</td>\n",
       "      <td>802.000000</td>\n",
       "      <td>33.000000</td>\n",
       "      <td>0.000000</td>\n",
       "      <td>2.955542e+05</td>\n",
       "      <td>1.000000</td>\n",
       "      <td>0.000000</td>\n",
       "      <td>0.000000</td>\n",
       "      <td>7.525190e+04</td>\n",
       "      <td>0.000000</td>\n",
       "    </tr>\n",
       "    <tr>\n",
       "      <th>50%</th>\n",
       "      <td>172728.00000</td>\n",
       "      <td>853.000000</td>\n",
       "      <td>40.000000</td>\n",
       "      <td>3.000000</td>\n",
       "      <td>5.242722e+05</td>\n",
       "      <td>2.000000</td>\n",
       "      <td>1.000000</td>\n",
       "      <td>1.000000</td>\n",
       "      <td>1.196581e+05</td>\n",
       "      <td>0.000000</td>\n",
       "    </tr>\n",
       "    <tr>\n",
       "      <th>75%</th>\n",
       "      <td>201261.75000</td>\n",
       "      <td>900.000000</td>\n",
       "      <td>51.000000</td>\n",
       "      <td>4.000000</td>\n",
       "      <td>9.807058e+05</td>\n",
       "      <td>2.000000</td>\n",
       "      <td>1.000000</td>\n",
       "      <td>1.000000</td>\n",
       "      <td>1.745005e+05</td>\n",
       "      <td>0.000000</td>\n",
       "    </tr>\n",
       "    <tr>\n",
       "      <th>max</th>\n",
       "      <td>229145.00000</td>\n",
       "      <td>1000.000000</td>\n",
       "      <td>86.000000</td>\n",
       "      <td>9.000000</td>\n",
       "      <td>1.191136e+08</td>\n",
       "      <td>5.000000</td>\n",
       "      <td>1.000000</td>\n",
       "      <td>1.000000</td>\n",
       "      <td>1.395064e+06</td>\n",
       "      <td>1.000000</td>\n",
       "    </tr>\n",
       "  </tbody>\n",
       "</table>\n",
       "</div>"
      ],
      "text/plain": [
       "             USERID         score          age        equity       balance  \\\n",
       "count   10000.00000  10000.000000  9974.000000  10000.000000  7.705000e+03   \n",
       "mean   171814.71260    848.699400    42.734409      2.627600  8.277943e+05   \n",
       "std     33708.23812     65.448519    12.179971      1.980836  1.980614e+06   \n",
       "min     94561.00000    642.000000    18.000000      0.000000  0.000000e+00   \n",
       "25%    142810.25000    802.000000    33.000000      0.000000  2.955542e+05   \n",
       "50%    172728.00000    853.000000    40.000000      3.000000  5.242722e+05   \n",
       "75%    201261.75000    900.000000    51.000000      4.000000  9.807058e+05   \n",
       "max    229145.00000   1000.000000    86.000000      9.000000  1.191136e+08   \n",
       "\n",
       "           products   credit_card  last_activity    EST_SALARY         churn  \n",
       "count  10000.000000  10000.000000   10000.000000  1.000000e+04  10000.000000  \n",
       "mean       1.870100      0.680400       0.523500  1.478669e+05      0.182000  \n",
       "std        0.792647      0.466345       0.499472  1.393885e+05      0.385864  \n",
       "min        0.000000      0.000000       0.000000  2.546300e+03      0.000000  \n",
       "25%        1.000000      0.000000       0.000000  7.525190e+04      0.000000  \n",
       "50%        2.000000      1.000000       1.000000  1.196581e+05      0.000000  \n",
       "75%        2.000000      1.000000       1.000000  1.745005e+05      0.000000  \n",
       "max        5.000000      1.000000       1.000000  1.395064e+06      1.000000  "
      ]
     },
     "execution_count": 44,
     "metadata": {},
     "output_type": "execute_result"
    }
   ],
   "source": [
    "#Проверим основные статистические данные о датафрейме\n",
    "df.describe()"
   ]
  },
  {
   "cell_type": "markdown",
   "id": "242c74b3",
   "metadata": {},
   "source": [
    "Данные в хорошеи состоянии, вызывает сомнение значени 0 в products, также минимальное значение дохода значительно ниже мрот, что также вызывает сомнение. Разберем эти аномалии позднее"
   ]
  },
  {
   "cell_type": "markdown",
   "id": "c1654daf",
   "metadata": {},
   "source": [
    "### Обработка таблицы"
   ]
  },
  {
   "cell_type": "code",
   "execution_count": 45,
   "id": "7abd6788",
   "metadata": {},
   "outputs": [
    {
     "name": "stdout",
     "output_type": "stream",
     "text": [
      "['Ж' 'М'] ['Рыбинск' 'Ярославль' 'Ростов'] [1 5 0 4 3 2 6 7 8 9] [2 3 1 4 5 0] [0 1] [1 0] [1 0]\n"
     ]
    }
   ],
   "source": [
    "#проверим категориальные данные значение на уникальность\n",
    "print(df['gender'].unique(), df['city'].unique(), df['equity'].unique(), df['products'].unique(), df['credit_card'].unique(), df['churn'].unique(), df['last_activity'].unique())"
   ]
  },
  {
   "cell_type": "markdown",
   "id": "94ef3b86",
   "metadata": {},
   "source": [
    "В products обнаружено значение 0"
   ]
  },
  {
   "cell_type": "code",
   "execution_count": 46,
   "id": "b63fcf82",
   "metadata": {},
   "outputs": [
    {
     "data": {
      "text/html": [
       "<div>\n",
       "<style scoped>\n",
       "    .dataframe tbody tr th:only-of-type {\n",
       "        vertical-align: middle;\n",
       "    }\n",
       "\n",
       "    .dataframe tbody tr th {\n",
       "        vertical-align: top;\n",
       "    }\n",
       "\n",
       "    .dataframe thead th {\n",
       "        text-align: right;\n",
       "    }\n",
       "</style>\n",
       "<table border=\"1\" class=\"dataframe\">\n",
       "  <thead>\n",
       "    <tr style=\"text-align: right;\">\n",
       "      <th></th>\n",
       "      <th>USERID</th>\n",
       "      <th>score</th>\n",
       "      <th>city</th>\n",
       "      <th>gender</th>\n",
       "      <th>age</th>\n",
       "      <th>equity</th>\n",
       "      <th>balance</th>\n",
       "      <th>products</th>\n",
       "      <th>credit_card</th>\n",
       "      <th>last_activity</th>\n",
       "      <th>EST_SALARY</th>\n",
       "      <th>churn</th>\n",
       "    </tr>\n",
       "  </thead>\n",
       "  <tbody>\n",
       "    <tr>\n",
       "      <th>8957</th>\n",
       "      <td>147837</td>\n",
       "      <td>962.0</td>\n",
       "      <td>Рыбинск</td>\n",
       "      <td>Ж</td>\n",
       "      <td>79.0</td>\n",
       "      <td>3</td>\n",
       "      <td>NaN</td>\n",
       "      <td>0</td>\n",
       "      <td>0</td>\n",
       "      <td>0</td>\n",
       "      <td>25063.96</td>\n",
       "      <td>1</td>\n",
       "    </tr>\n",
       "  </tbody>\n",
       "</table>\n",
       "</div>"
      ],
      "text/plain": [
       "      USERID  score     city gender   age  equity  balance  products  \\\n",
       "8957  147837  962.0  Рыбинск      Ж  79.0       3      NaN         0   \n",
       "\n",
       "      credit_card  last_activity  EST_SALARY  churn  \n",
       "8957            0              0    25063.96      1  "
      ]
     },
     "execution_count": 46,
     "metadata": {},
     "output_type": "execute_result"
    }
   ],
   "source": [
    "df.loc[(df['products'] == 0) ]"
   ]
  },
  {
   "cell_type": "code",
   "execution_count": 47,
   "id": "29b0e85d",
   "metadata": {},
   "outputs": [
    {
     "data": {
      "text/html": [
       "<div>\n",
       "<style scoped>\n",
       "    .dataframe tbody tr th:only-of-type {\n",
       "        vertical-align: middle;\n",
       "    }\n",
       "\n",
       "    .dataframe tbody tr th {\n",
       "        vertical-align: top;\n",
       "    }\n",
       "\n",
       "    .dataframe thead th {\n",
       "        text-align: right;\n",
       "    }\n",
       "</style>\n",
       "<table border=\"1\" class=\"dataframe\">\n",
       "  <thead>\n",
       "    <tr style=\"text-align: right;\">\n",
       "      <th></th>\n",
       "      <th>USERID</th>\n",
       "      <th>score</th>\n",
       "      <th>city</th>\n",
       "      <th>gender</th>\n",
       "      <th>age</th>\n",
       "      <th>equity</th>\n",
       "      <th>balance</th>\n",
       "      <th>products</th>\n",
       "      <th>credit_card</th>\n",
       "      <th>last_activity</th>\n",
       "      <th>EST_SALARY</th>\n",
       "      <th>churn</th>\n",
       "    </tr>\n",
       "  </thead>\n",
       "  <tbody>\n",
       "  </tbody>\n",
       "</table>\n",
       "</div>"
      ],
      "text/plain": [
       "Empty DataFrame\n",
       "Columns: [USERID, score, city, gender, age, equity, balance, products, credit_card, last_activity, EST_SALARY, churn]\n",
       "Index: []"
      ]
     },
     "execution_count": 47,
     "metadata": {},
     "output_type": "execute_result"
    }
   ],
   "source": [
    "#вероятно значение 0 вызвано тем, что клиент ушел. Так как данные должны быть актуальными, уберем лишнее значение\n",
    "df = df[df['products']!=0]\n",
    "df.loc[(df['products'] == 0) ]"
   ]
  },
  {
   "cell_type": "markdown",
   "id": "a436ef73",
   "metadata": {},
   "source": [
    "Приведем название столбцов к змеиному регистру. Приводить строки к нижнему регистру не будем, так как неявных дубликатов в строках нет.\n",
    "Доля пропусков в age меньше 0.3%, удалим их"
   ]
  },
  {
   "cell_type": "code",
   "execution_count": 48,
   "id": "b0ed50a2",
   "metadata": {},
   "outputs": [],
   "source": [
    "df.columns = map(str.lower, df.columns)\n",
    "df = df.rename(columns={'userid':'user_id'})\n",
    "df['est_salary'] = df['est_salary'].astype(int)\n",
    "df['score'] = df['score'].astype(int)\n",
    "df['age'].dropna(inplace=True)"
   ]
  },
  {
   "cell_type": "code",
   "execution_count": 49,
   "id": "95eae8c3",
   "metadata": {},
   "outputs": [
    {
     "data": {
      "text/plain": [
       "0"
      ]
     },
     "execution_count": 49,
     "metadata": {},
     "output_type": "execute_result"
    }
   ],
   "source": [
    "#проверим явные дубликаты\n",
    "df.duplicated().sum()"
   ]
  },
  {
   "cell_type": "code",
   "execution_count": 50,
   "id": "e319a9da",
   "metadata": {},
   "outputs": [
    {
     "data": {
      "text/plain": [
       "73"
      ]
     },
     "execution_count": 50,
     "metadata": {},
     "output_type": "execute_result"
    }
   ],
   "source": [
    "#проверим неявные дубликаты\n",
    "df['user_id'].duplicated().sum()"
   ]
  },
  {
   "cell_type": "markdown",
   "id": "4598b102",
   "metadata": {},
   "source": [
    "Проверим получившиеся дубликаты"
   ]
  },
  {
   "cell_type": "code",
   "execution_count": 51,
   "id": "af077bc9",
   "metadata": {},
   "outputs": [
    {
     "data": {
      "text/html": [
       "<div>\n",
       "<style scoped>\n",
       "    .dataframe tbody tr th:only-of-type {\n",
       "        vertical-align: middle;\n",
       "    }\n",
       "\n",
       "    .dataframe tbody tr th {\n",
       "        vertical-align: top;\n",
       "    }\n",
       "\n",
       "    .dataframe thead th {\n",
       "        text-align: right;\n",
       "    }\n",
       "</style>\n",
       "<table border=\"1\" class=\"dataframe\">\n",
       "  <thead>\n",
       "    <tr style=\"text-align: right;\">\n",
       "      <th></th>\n",
       "      <th>user_id</th>\n",
       "      <th>score</th>\n",
       "      <th>city</th>\n",
       "      <th>gender</th>\n",
       "      <th>age</th>\n",
       "      <th>equity</th>\n",
       "      <th>balance</th>\n",
       "      <th>products</th>\n",
       "      <th>credit_card</th>\n",
       "      <th>last_activity</th>\n",
       "      <th>est_salary</th>\n",
       "      <th>churn</th>\n",
       "    </tr>\n",
       "  </thead>\n",
       "  <tbody>\n",
       "    <tr>\n",
       "      <th>9104</th>\n",
       "      <td>222480</td>\n",
       "      <td>776</td>\n",
       "      <td>Рыбинск</td>\n",
       "      <td>Ж</td>\n",
       "      <td>NaN</td>\n",
       "      <td>5</td>\n",
       "      <td>796735.09</td>\n",
       "      <td>1</td>\n",
       "      <td>1</td>\n",
       "      <td>1</td>\n",
       "      <td>55073</td>\n",
       "      <td>0</td>\n",
       "    </tr>\n",
       "    <tr>\n",
       "      <th>7236</th>\n",
       "      <td>210135</td>\n",
       "      <td>908</td>\n",
       "      <td>Рыбинск</td>\n",
       "      <td>Ж</td>\n",
       "      <td>NaN</td>\n",
       "      <td>4</td>\n",
       "      <td>1120340.31</td>\n",
       "      <td>3</td>\n",
       "      <td>1</td>\n",
       "      <td>1</td>\n",
       "      <td>85002</td>\n",
       "      <td>0</td>\n",
       "    </tr>\n",
       "    <tr>\n",
       "      <th>9508</th>\n",
       "      <td>160075</td>\n",
       "      <td>824</td>\n",
       "      <td>Рыбинск</td>\n",
       "      <td>Ж</td>\n",
       "      <td>57.0</td>\n",
       "      <td>3</td>\n",
       "      <td>355047.33</td>\n",
       "      <td>2</td>\n",
       "      <td>0</td>\n",
       "      <td>0</td>\n",
       "      <td>64351</td>\n",
       "      <td>0</td>\n",
       "    </tr>\n",
       "    <tr>\n",
       "      <th>9267</th>\n",
       "      <td>150667</td>\n",
       "      <td>931</td>\n",
       "      <td>Ярославль</td>\n",
       "      <td>М</td>\n",
       "      <td>41.0</td>\n",
       "      <td>0</td>\n",
       "      <td>NaN</td>\n",
       "      <td>1</td>\n",
       "      <td>0</td>\n",
       "      <td>0</td>\n",
       "      <td>261904</td>\n",
       "      <td>0</td>\n",
       "    </tr>\n",
       "    <tr>\n",
       "      <th>9406</th>\n",
       "      <td>217826</td>\n",
       "      <td>790</td>\n",
       "      <td>Рыбинск</td>\n",
       "      <td>Ж</td>\n",
       "      <td>46.0</td>\n",
       "      <td>4</td>\n",
       "      <td>430414.80</td>\n",
       "      <td>2</td>\n",
       "      <td>1</td>\n",
       "      <td>1</td>\n",
       "      <td>49400</td>\n",
       "      <td>0</td>\n",
       "    </tr>\n",
       "    <tr>\n",
       "      <th>5840</th>\n",
       "      <td>208738</td>\n",
       "      <td>839</td>\n",
       "      <td>Ярославль</td>\n",
       "      <td>М</td>\n",
       "      <td>60.0</td>\n",
       "      <td>5</td>\n",
       "      <td>1102438.37</td>\n",
       "      <td>2</td>\n",
       "      <td>0</td>\n",
       "      <td>1</td>\n",
       "      <td>116500</td>\n",
       "      <td>0</td>\n",
       "    </tr>\n",
       "    <tr>\n",
       "      <th>5470</th>\n",
       "      <td>218868</td>\n",
       "      <td>827</td>\n",
       "      <td>Рыбинск</td>\n",
       "      <td>Ж</td>\n",
       "      <td>NaN</td>\n",
       "      <td>4</td>\n",
       "      <td>448959.07</td>\n",
       "      <td>2</td>\n",
       "      <td>1</td>\n",
       "      <td>1</td>\n",
       "      <td>67835</td>\n",
       "      <td>0</td>\n",
       "    </tr>\n",
       "    <tr>\n",
       "      <th>2302</th>\n",
       "      <td>220816</td>\n",
       "      <td>934</td>\n",
       "      <td>Рыбинск</td>\n",
       "      <td>Ж</td>\n",
       "      <td>74.0</td>\n",
       "      <td>5</td>\n",
       "      <td>1294285.39</td>\n",
       "      <td>3</td>\n",
       "      <td>1</td>\n",
       "      <td>0</td>\n",
       "      <td>95606</td>\n",
       "      <td>0</td>\n",
       "    </tr>\n",
       "    <tr>\n",
       "      <th>4870</th>\n",
       "      <td>197364</td>\n",
       "      <td>889</td>\n",
       "      <td>Ярославль</td>\n",
       "      <td>М</td>\n",
       "      <td>33.0</td>\n",
       "      <td>0</td>\n",
       "      <td>NaN</td>\n",
       "      <td>2</td>\n",
       "      <td>1</td>\n",
       "      <td>1</td>\n",
       "      <td>96173</td>\n",
       "      <td>0</td>\n",
       "    </tr>\n",
       "    <tr>\n",
       "      <th>1583</th>\n",
       "      <td>190253</td>\n",
       "      <td>726</td>\n",
       "      <td>Ярославль</td>\n",
       "      <td>М</td>\n",
       "      <td>49.0</td>\n",
       "      <td>0</td>\n",
       "      <td>NaN</td>\n",
       "      <td>1</td>\n",
       "      <td>1</td>\n",
       "      <td>1</td>\n",
       "      <td>177700</td>\n",
       "      <td>0</td>\n",
       "    </tr>\n",
       "    <tr>\n",
       "      <th>3817</th>\n",
       "      <td>211130</td>\n",
       "      <td>918</td>\n",
       "      <td>Рыбинск</td>\n",
       "      <td>Ж</td>\n",
       "      <td>55.0</td>\n",
       "      <td>0</td>\n",
       "      <td>NaN</td>\n",
       "      <td>2</td>\n",
       "      <td>1</td>\n",
       "      <td>1</td>\n",
       "      <td>244202</td>\n",
       "      <td>0</td>\n",
       "    </tr>\n",
       "    <tr>\n",
       "      <th>7271</th>\n",
       "      <td>164676</td>\n",
       "      <td>790</td>\n",
       "      <td>Рыбинск</td>\n",
       "      <td>Ж</td>\n",
       "      <td>77.0</td>\n",
       "      <td>1</td>\n",
       "      <td>111202.01</td>\n",
       "      <td>1</td>\n",
       "      <td>1</td>\n",
       "      <td>0</td>\n",
       "      <td>32835</td>\n",
       "      <td>0</td>\n",
       "    </tr>\n",
       "    <tr>\n",
       "      <th>5896</th>\n",
       "      <td>120258</td>\n",
       "      <td>905</td>\n",
       "      <td>Ярославль</td>\n",
       "      <td>М</td>\n",
       "      <td>30.0</td>\n",
       "      <td>0</td>\n",
       "      <td>NaN</td>\n",
       "      <td>1</td>\n",
       "      <td>1</td>\n",
       "      <td>1</td>\n",
       "      <td>146427</td>\n",
       "      <td>0</td>\n",
       "    </tr>\n",
       "    <tr>\n",
       "      <th>2998</th>\n",
       "      <td>208081</td>\n",
       "      <td>821</td>\n",
       "      <td>Рыбинск</td>\n",
       "      <td>Ж</td>\n",
       "      <td>62.0</td>\n",
       "      <td>3</td>\n",
       "      <td>493608.26</td>\n",
       "      <td>2</td>\n",
       "      <td>1</td>\n",
       "      <td>1</td>\n",
       "      <td>33491</td>\n",
       "      <td>0</td>\n",
       "    </tr>\n",
       "    <tr>\n",
       "      <th>9146</th>\n",
       "      <td>183510</td>\n",
       "      <td>800</td>\n",
       "      <td>Рыбинск</td>\n",
       "      <td>Ж</td>\n",
       "      <td>42.0</td>\n",
       "      <td>7</td>\n",
       "      <td>473293.81</td>\n",
       "      <td>2</td>\n",
       "      <td>1</td>\n",
       "      <td>0</td>\n",
       "      <td>54049</td>\n",
       "      <td>0</td>\n",
       "    </tr>\n",
       "    <tr>\n",
       "      <th>9667</th>\n",
       "      <td>163657</td>\n",
       "      <td>849</td>\n",
       "      <td>Ярославль</td>\n",
       "      <td>М</td>\n",
       "      <td>NaN</td>\n",
       "      <td>4</td>\n",
       "      <td>1254013.85</td>\n",
       "      <td>2</td>\n",
       "      <td>1</td>\n",
       "      <td>1</td>\n",
       "      <td>119106</td>\n",
       "      <td>0</td>\n",
       "    </tr>\n",
       "    <tr>\n",
       "      <th>8638</th>\n",
       "      <td>123461</td>\n",
       "      <td>934</td>\n",
       "      <td>Рыбинск</td>\n",
       "      <td>М</td>\n",
       "      <td>34.0</td>\n",
       "      <td>0</td>\n",
       "      <td>NaN</td>\n",
       "      <td>2</td>\n",
       "      <td>1</td>\n",
       "      <td>0</td>\n",
       "      <td>291619</td>\n",
       "      <td>0</td>\n",
       "    </tr>\n",
       "    <tr>\n",
       "      <th>8015</th>\n",
       "      <td>198635</td>\n",
       "      <td>670</td>\n",
       "      <td>Ярославль</td>\n",
       "      <td>Ж</td>\n",
       "      <td>NaN</td>\n",
       "      <td>0</td>\n",
       "      <td>NaN</td>\n",
       "      <td>1</td>\n",
       "      <td>1</td>\n",
       "      <td>1</td>\n",
       "      <td>168699</td>\n",
       "      <td>0</td>\n",
       "    </tr>\n",
       "    <tr>\n",
       "      <th>8785</th>\n",
       "      <td>127440</td>\n",
       "      <td>663</td>\n",
       "      <td>Ярославль</td>\n",
       "      <td>М</td>\n",
       "      <td>NaN</td>\n",
       "      <td>0</td>\n",
       "      <td>NaN</td>\n",
       "      <td>1</td>\n",
       "      <td>1</td>\n",
       "      <td>1</td>\n",
       "      <td>117197</td>\n",
       "      <td>0</td>\n",
       "    </tr>\n",
       "    <tr>\n",
       "      <th>9785</th>\n",
       "      <td>168998</td>\n",
       "      <td>895</td>\n",
       "      <td>Рыбинск</td>\n",
       "      <td>М</td>\n",
       "      <td>44.0</td>\n",
       "      <td>0</td>\n",
       "      <td>282653.53</td>\n",
       "      <td>3</td>\n",
       "      <td>0</td>\n",
       "      <td>0</td>\n",
       "      <td>255296</td>\n",
       "      <td>0</td>\n",
       "    </tr>\n",
       "  </tbody>\n",
       "</table>\n",
       "</div>"
      ],
      "text/plain": [
       "      user_id  score       city gender   age  equity     balance  products  \\\n",
       "9104   222480    776    Рыбинск      Ж   NaN       5   796735.09         1   \n",
       "7236   210135    908    Рыбинск      Ж   NaN       4  1120340.31         3   \n",
       "9508   160075    824    Рыбинск      Ж  57.0       3   355047.33         2   \n",
       "9267   150667    931  Ярославль      М  41.0       0         NaN         1   \n",
       "9406   217826    790    Рыбинск      Ж  46.0       4   430414.80         2   \n",
       "5840   208738    839  Ярославль      М  60.0       5  1102438.37         2   \n",
       "5470   218868    827    Рыбинск      Ж   NaN       4   448959.07         2   \n",
       "2302   220816    934    Рыбинск      Ж  74.0       5  1294285.39         3   \n",
       "4870   197364    889  Ярославль      М  33.0       0         NaN         2   \n",
       "1583   190253    726  Ярославль      М  49.0       0         NaN         1   \n",
       "3817   211130    918    Рыбинск      Ж  55.0       0         NaN         2   \n",
       "7271   164676    790    Рыбинск      Ж  77.0       1   111202.01         1   \n",
       "5896   120258    905  Ярославль      М  30.0       0         NaN         1   \n",
       "2998   208081    821    Рыбинск      Ж  62.0       3   493608.26         2   \n",
       "9146   183510    800    Рыбинск      Ж  42.0       7   473293.81         2   \n",
       "9667   163657    849  Ярославль      М   NaN       4  1254013.85         2   \n",
       "8638   123461    934    Рыбинск      М  34.0       0         NaN         2   \n",
       "8015   198635    670  Ярославль      Ж   NaN       0         NaN         1   \n",
       "8785   127440    663  Ярославль      М   NaN       0         NaN         1   \n",
       "9785   168998    895    Рыбинск      М  44.0       0   282653.53         3   \n",
       "\n",
       "      credit_card  last_activity  est_salary  churn  \n",
       "9104            1              1       55073      0  \n",
       "7236            1              1       85002      0  \n",
       "9508            0              0       64351      0  \n",
       "9267            0              0      261904      0  \n",
       "9406            1              1       49400      0  \n",
       "5840            0              1      116500      0  \n",
       "5470            1              1       67835      0  \n",
       "2302            1              0       95606      0  \n",
       "4870            1              1       96173      0  \n",
       "1583            1              1      177700      0  \n",
       "3817            1              1      244202      0  \n",
       "7271            1              0       32835      0  \n",
       "5896            1              1      146427      0  \n",
       "2998            1              1       33491      0  \n",
       "9146            1              0       54049      0  \n",
       "9667            1              1      119106      0  \n",
       "8638            1              0      291619      0  \n",
       "8015            1              1      168699      0  \n",
       "8785            1              1      117197      0  \n",
       "9785            0              0      255296      0  "
      ]
     },
     "execution_count": 51,
     "metadata": {},
     "output_type": "execute_result"
    }
   ],
   "source": [
    "df.loc[df['user_id'].duplicated()].sample(20)"
   ]
  },
  {
   "cell_type": "markdown",
   "id": "15d22e82",
   "metadata": {},
   "source": [
    "При проверке обнаружены 2 условия:\n",
    "- Нет дубликатов из Ростова (только рыбинск и Ярославль)\n",
    "- Все клиенты не отточные\n",
    "\n",
    "Вероятно было копирование данных по определенным условиям, из за чего дубликаты снова попали в датасет\n",
    "\n",
    "Удалим дубликаты"
   ]
  },
  {
   "cell_type": "code",
   "execution_count": 52,
   "id": "6b285685",
   "metadata": {},
   "outputs": [
    {
     "data": {
      "text/plain": [
       "0"
      ]
     },
     "execution_count": 52,
     "metadata": {},
     "output_type": "execute_result"
    }
   ],
   "source": [
    "df = df.drop_duplicates(subset=['user_id'])\n",
    "\n",
    "df['user_id'].duplicated().sum()"
   ]
  },
  {
   "cell_type": "code",
   "execution_count": 53,
   "id": "e0007d96",
   "metadata": {},
   "outputs": [
    {
     "data": {
      "text/plain": [
       "94"
      ]
     },
     "execution_count": 53,
     "metadata": {},
     "output_type": "execute_result"
    }
   ],
   "source": [
    "#Посмотрим количество зарплат меньше 17000, если значение слишком маленькое - отбросим как вброс.\n",
    "df[df['est_salary']<17000]['user_id'].count()"
   ]
  },
  {
   "cell_type": "markdown",
   "id": "4c5f9428",
   "metadata": {},
   "source": [
    "Количество значений в районе 1%, отбросим нерепрезентативные данные"
   ]
  },
  {
   "cell_type": "code",
   "execution_count": 54,
   "id": "abd23542",
   "metadata": {},
   "outputs": [],
   "source": [
    "df = df[df['est_salary']>17000]"
   ]
  },
  {
   "cell_type": "markdown",
   "id": "f6687ee6",
   "metadata": {},
   "source": [
    "**При обработке таблицы проанализированы явные и неявные дубликаты, убраны вбросы. Колонки приведены к змеиному регистру**"
   ]
  },
  {
   "cell_type": "markdown",
   "id": "5a324023",
   "metadata": {},
   "source": [
    "### Обработка пропусков"
   ]
  },
  {
   "cell_type": "markdown",
   "id": "c685bced",
   "metadata": {},
   "source": [
    "В age прпоусков менее 0.3%, поэтому их замена медианой не сильно повлияет на выводы исследования"
   ]
  },
  {
   "cell_type": "code",
   "execution_count": 55,
   "id": "1ed75cae",
   "metadata": {},
   "outputs": [],
   "source": [
    "df['age'] = df['age'].fillna(df['age'].median())"
   ]
  },
  {
   "cell_type": "code",
   "execution_count": 56,
   "id": "ce68b3ff",
   "metadata": {},
   "outputs": [
    {
     "data": {
      "text/html": [
       "<div>\n",
       "<style scoped>\n",
       "    .dataframe tbody tr th:only-of-type {\n",
       "        vertical-align: middle;\n",
       "    }\n",
       "\n",
       "    .dataframe tbody tr th {\n",
       "        vertical-align: top;\n",
       "    }\n",
       "\n",
       "    .dataframe thead th {\n",
       "        text-align: right;\n",
       "    }\n",
       "</style>\n",
       "<table border=\"1\" class=\"dataframe\">\n",
       "  <thead>\n",
       "    <tr style=\"text-align: right;\">\n",
       "      <th></th>\n",
       "      <th>user_id</th>\n",
       "      <th>score</th>\n",
       "      <th>age</th>\n",
       "      <th>equity</th>\n",
       "      <th>balance</th>\n",
       "      <th>products</th>\n",
       "      <th>credit_card</th>\n",
       "      <th>last_activity</th>\n",
       "      <th>est_salary</th>\n",
       "      <th>churn</th>\n",
       "    </tr>\n",
       "  </thead>\n",
       "  <tbody>\n",
       "    <tr>\n",
       "      <th>count</th>\n",
       "      <td>2259.000000</td>\n",
       "      <td>2259.000000</td>\n",
       "      <td>2259.000000</td>\n",
       "      <td>2259.000000</td>\n",
       "      <td>0.0</td>\n",
       "      <td>2259.000000</td>\n",
       "      <td>2259.000000</td>\n",
       "      <td>2259.000000</td>\n",
       "      <td>2.259000e+03</td>\n",
       "      <td>2259.000000</td>\n",
       "    </tr>\n",
       "    <tr>\n",
       "      <th>mean</th>\n",
       "      <td>171986.254095</td>\n",
       "      <td>865.292165</td>\n",
       "      <td>42.109340</td>\n",
       "      <td>0.050465</td>\n",
       "      <td>NaN</td>\n",
       "      <td>1.162019</td>\n",
       "      <td>0.815848</td>\n",
       "      <td>0.549358</td>\n",
       "      <td>2.267893e+05</td>\n",
       "      <td>0.005312</td>\n",
       "    </tr>\n",
       "    <tr>\n",
       "      <th>std</th>\n",
       "      <td>33280.678042</td>\n",
       "      <td>89.666218</td>\n",
       "      <td>11.930564</td>\n",
       "      <td>0.218951</td>\n",
       "      <td>NaN</td>\n",
       "      <td>0.400786</td>\n",
       "      <td>0.387694</td>\n",
       "      <td>0.497668</td>\n",
       "      <td>1.999809e+05</td>\n",
       "      <td>0.072706</td>\n",
       "    </tr>\n",
       "    <tr>\n",
       "      <th>min</th>\n",
       "      <td>114182.000000</td>\n",
       "      <td>642.000000</td>\n",
       "      <td>18.000000</td>\n",
       "      <td>0.000000</td>\n",
       "      <td>NaN</td>\n",
       "      <td>1.000000</td>\n",
       "      <td>0.000000</td>\n",
       "      <td>0.000000</td>\n",
       "      <td>2.027400e+04</td>\n",
       "      <td>0.000000</td>\n",
       "    </tr>\n",
       "    <tr>\n",
       "      <th>25%</th>\n",
       "      <td>143046.000000</td>\n",
       "      <td>871.000000</td>\n",
       "      <td>33.000000</td>\n",
       "      <td>0.000000</td>\n",
       "      <td>NaN</td>\n",
       "      <td>1.000000</td>\n",
       "      <td>1.000000</td>\n",
       "      <td>0.000000</td>\n",
       "      <td>1.205020e+05</td>\n",
       "      <td>0.000000</td>\n",
       "    </tr>\n",
       "    <tr>\n",
       "      <th>50%</th>\n",
       "      <td>172549.000000</td>\n",
       "      <td>903.000000</td>\n",
       "      <td>40.000000</td>\n",
       "      <td>0.000000</td>\n",
       "      <td>NaN</td>\n",
       "      <td>1.000000</td>\n",
       "      <td>1.000000</td>\n",
       "      <td>1.000000</td>\n",
       "      <td>1.747670e+05</td>\n",
       "      <td>0.000000</td>\n",
       "    </tr>\n",
       "    <tr>\n",
       "      <th>75%</th>\n",
       "      <td>201356.500000</td>\n",
       "      <td>922.000000</td>\n",
       "      <td>49.000000</td>\n",
       "      <td>0.000000</td>\n",
       "      <td>NaN</td>\n",
       "      <td>1.000000</td>\n",
       "      <td>1.000000</td>\n",
       "      <td>1.000000</td>\n",
       "      <td>2.404820e+05</td>\n",
       "      <td>0.000000</td>\n",
       "    </tr>\n",
       "    <tr>\n",
       "      <th>max</th>\n",
       "      <td>229145.000000</td>\n",
       "      <td>990.000000</td>\n",
       "      <td>86.000000</td>\n",
       "      <td>1.000000</td>\n",
       "      <td>NaN</td>\n",
       "      <td>3.000000</td>\n",
       "      <td>1.000000</td>\n",
       "      <td>1.000000</td>\n",
       "      <td>1.333687e+06</td>\n",
       "      <td>1.000000</td>\n",
       "    </tr>\n",
       "  </tbody>\n",
       "</table>\n",
       "</div>"
      ],
      "text/plain": [
       "             user_id        score          age       equity  balance  \\\n",
       "count    2259.000000  2259.000000  2259.000000  2259.000000      0.0   \n",
       "mean   171986.254095   865.292165    42.109340     0.050465      NaN   \n",
       "std     33280.678042    89.666218    11.930564     0.218951      NaN   \n",
       "min    114182.000000   642.000000    18.000000     0.000000      NaN   \n",
       "25%    143046.000000   871.000000    33.000000     0.000000      NaN   \n",
       "50%    172549.000000   903.000000    40.000000     0.000000      NaN   \n",
       "75%    201356.500000   922.000000    49.000000     0.000000      NaN   \n",
       "max    229145.000000   990.000000    86.000000     1.000000      NaN   \n",
       "\n",
       "          products  credit_card  last_activity    est_salary        churn  \n",
       "count  2259.000000  2259.000000    2259.000000  2.259000e+03  2259.000000  \n",
       "mean      1.162019     0.815848       0.549358  2.267893e+05     0.005312  \n",
       "std       0.400786     0.387694       0.497668  1.999809e+05     0.072706  \n",
       "min       1.000000     0.000000       0.000000  2.027400e+04     0.000000  \n",
       "25%       1.000000     1.000000       0.000000  1.205020e+05     0.000000  \n",
       "50%       1.000000     1.000000       1.000000  1.747670e+05     0.000000  \n",
       "75%       1.000000     1.000000       1.000000  2.404820e+05     0.000000  \n",
       "max       3.000000     1.000000       1.000000  1.333687e+06     1.000000  "
      ]
     },
     "execution_count": 56,
     "metadata": {},
     "output_type": "execute_result"
    }
   ],
   "source": [
    "#Разберем 22.5% пропусков в balance. Значение nan может быть вызвано тем, что клиент ушел так как у нас 21.8% отточных клиентов и 22.5% пропусков\n",
    "df.loc[(df['balance'].isnull()) ].describe()"
   ]
  },
  {
   "cell_type": "markdown",
   "id": "4c8a66b9",
   "metadata": {},
   "source": [
    "около 99.5% пропусков в products не является отточными. В целом эти пользователи не обладают собственностью, но обладают большим доходом, чем в среднем по дататсету. Так как причины неясны, лучше оставить пропуски"
   ]
  },
  {
   "cell_type": "markdown",
   "id": "046d8316",
   "metadata": {},
   "source": [
    "**При подготовке данных совершены следуюзие действия:**\n",
    "- Загружены библиотеки и данные\n",
    "- Проверены явные и неявные дубликаты\n",
    "- Столбцы приведены к змеиному регистру\n",
    "- Заменены типы данных\n",
    "- Убраны выбросы"
   ]
  },
  {
   "cell_type": "markdown",
   "id": "98ed8594",
   "metadata": {},
   "source": [
    "## Исследовательский анализ данных"
   ]
  },
  {
   "cell_type": "markdown",
   "id": "d58371a8",
   "metadata": {},
   "source": [
    "### Категоризация данных"
   ]
  },
  {
   "cell_type": "code",
   "execution_count": 57,
   "id": "e6ff8102",
   "metadata": {},
   "outputs": [
    {
     "name": "stderr",
     "output_type": "stream",
     "text": [
      "c:\\Users\\Hasee\\anaconda3\\Lib\\site-packages\\seaborn\\axisgrid.py:118: UserWarning: The figure layout has changed to tight\n",
      "  self._figure.tight_layout(*args, **kwargs)\n"
     ]
    },
    {
     "data": {
      "text/plain": [
       "<Figure size 1200x700 with 0 Axes>"
      ]
     },
     "metadata": {},
     "output_type": "display_data"
    },
    {
     "data": {
      "image/png": "[encoded data removed]",
      "text/plain": [
       "<Figure size 1108.88x700 with 1 Axes>"
      ]
     },
     "metadata": {},
     "output_type": "display_data"
    }
   ],
   "source": [
    "# Посмотрим распределение отточных клиентов по возрасту:\n",
    "plt.figure(figsize=(12, 7)) \n",
    "sns.displot(df, x='age', hue='churn', kde=True, height=7, aspect=1.5, bins=65)   \n",
    "plt.title('Распределение оттока по возрасту', fontsize=15) \n",
    "plt.xlabel('Возраст') \n",
    "plt.ylabel('Количество клиентов')   \n",
    "plt.show()"
   ]
  },
  {
   "cell_type": "markdown",
   "id": "9378b75f",
   "metadata": {},
   "source": [
    "По тенденциям отточных клиентов можно выделить 4 группы:\n",
    "1. 18 - 24 характиризуется малым количеством пользователей и средним оттоком\n",
    "2. 25 - 45 наибольшее количество пользователей и средний отток\n",
    "3. 46 - 62 умеренное количество пользователей и большой отток\n",
    "4. 63+ малое количество пользователей и малый отток\n"
   ]
  },
  {
   "cell_type": "code",
   "execution_count": 58,
   "id": "95d53a19",
   "metadata": {},
   "outputs": [],
   "source": [
    "# создадим функцию age_group для распределения клиентов по возрастным группам:\n",
    "\n",
    "def age_group(age):\n",
    "    if 25 > age >= 18:\n",
    "        return '18-24'\n",
    "    if 45 >= age >= 25:\n",
    "        return '25-45'\n",
    "    if 62 >= age >= 46:\n",
    "        return '46-62'\n",
    "    if 63 <= age:\n",
    "        return '63+'   "
   ]
  },
  {
   "cell_type": "code",
   "execution_count": 59,
   "id": "946b530d",
   "metadata": {},
   "outputs": [],
   "source": [
    "# вызовем get dummies для получения булевых значений и построения тепловой карты полов, городов и возрастных групп\n",
    "df['gender_dum'] = df['gender']\n",
    "df['city_dum'] = df['city']\n",
    "df = pd.get_dummies(df, columns=['gender_dum', 'city_dum'])\n",
    "df = df.rename (columns = ({\n",
    "    'gender_dum_Ж':'fem', 'gender_dum_М':'male','city_dum_Ростов':'rostov', \n",
    "    'city_dum_Рыбинск':'rybinsk', 'city_dum_Ярославль':'yaroslavl'}))"
   ]
  },
  {
   "cell_type": "code",
   "execution_count": 60,
   "id": "5c340538",
   "metadata": {},
   "outputs": [
    {
     "data": {
      "text/html": [
       "<div>\n",
       "<style scoped>\n",
       "    .dataframe tbody tr th:only-of-type {\n",
       "        vertical-align: middle;\n",
       "    }\n",
       "\n",
       "    .dataframe tbody tr th {\n",
       "        vertical-align: top;\n",
       "    }\n",
       "\n",
       "    .dataframe thead th {\n",
       "        text-align: right;\n",
       "    }\n",
       "</style>\n",
       "<table border=\"1\" class=\"dataframe\">\n",
       "  <thead>\n",
       "    <tr style=\"text-align: right;\">\n",
       "      <th></th>\n",
       "      <th>user_id</th>\n",
       "      <th>score</th>\n",
       "      <th>city</th>\n",
       "      <th>gender</th>\n",
       "      <th>age</th>\n",
       "      <th>equity</th>\n",
       "      <th>balance</th>\n",
       "      <th>products</th>\n",
       "      <th>credit_card</th>\n",
       "      <th>last_activity</th>\n",
       "      <th>...</th>\n",
       "      <th>fem</th>\n",
       "      <th>male</th>\n",
       "      <th>rostov</th>\n",
       "      <th>rybinsk</th>\n",
       "      <th>yaroslavl</th>\n",
       "      <th>age_group</th>\n",
       "      <th>18-24</th>\n",
       "      <th>25-45</th>\n",
       "      <th>46-62</th>\n",
       "      <th>63+</th>\n",
       "    </tr>\n",
       "  </thead>\n",
       "  <tbody>\n",
       "    <tr>\n",
       "      <th>1697</th>\n",
       "      <td>176184</td>\n",
       "      <td>917</td>\n",
       "      <td>Ярославль</td>\n",
       "      <td>Ж</td>\n",
       "      <td>62.0</td>\n",
       "      <td>0</td>\n",
       "      <td>NaN</td>\n",
       "      <td>1</td>\n",
       "      <td>0</td>\n",
       "      <td>0</td>\n",
       "      <td>...</td>\n",
       "      <td>True</td>\n",
       "      <td>False</td>\n",
       "      <td>False</td>\n",
       "      <td>False</td>\n",
       "      <td>True</td>\n",
       "      <td>46-62</td>\n",
       "      <td>False</td>\n",
       "      <td>False</td>\n",
       "      <td>True</td>\n",
       "      <td>False</td>\n",
       "    </tr>\n",
       "    <tr>\n",
       "      <th>6802</th>\n",
       "      <td>201439</td>\n",
       "      <td>908</td>\n",
       "      <td>Ярославль</td>\n",
       "      <td>Ж</td>\n",
       "      <td>72.0</td>\n",
       "      <td>5</td>\n",
       "      <td>1772599.64</td>\n",
       "      <td>3</td>\n",
       "      <td>1</td>\n",
       "      <td>0</td>\n",
       "      <td>...</td>\n",
       "      <td>True</td>\n",
       "      <td>False</td>\n",
       "      <td>False</td>\n",
       "      <td>False</td>\n",
       "      <td>True</td>\n",
       "      <td>63+</td>\n",
       "      <td>False</td>\n",
       "      <td>False</td>\n",
       "      <td>False</td>\n",
       "      <td>True</td>\n",
       "    </tr>\n",
       "    <tr>\n",
       "      <th>6592</th>\n",
       "      <td>226143</td>\n",
       "      <td>846</td>\n",
       "      <td>Ярославль</td>\n",
       "      <td>Ж</td>\n",
       "      <td>60.0</td>\n",
       "      <td>3</td>\n",
       "      <td>299567.30</td>\n",
       "      <td>2</td>\n",
       "      <td>0</td>\n",
       "      <td>0</td>\n",
       "      <td>...</td>\n",
       "      <td>True</td>\n",
       "      <td>False</td>\n",
       "      <td>False</td>\n",
       "      <td>False</td>\n",
       "      <td>True</td>\n",
       "      <td>46-62</td>\n",
       "      <td>False</td>\n",
       "      <td>False</td>\n",
       "      <td>True</td>\n",
       "      <td>False</td>\n",
       "    </tr>\n",
       "    <tr>\n",
       "      <th>54</th>\n",
       "      <td>210764</td>\n",
       "      <td>748</td>\n",
       "      <td>Рыбинск</td>\n",
       "      <td>М</td>\n",
       "      <td>46.0</td>\n",
       "      <td>2</td>\n",
       "      <td>182889.96</td>\n",
       "      <td>1</td>\n",
       "      <td>1</td>\n",
       "      <td>1</td>\n",
       "      <td>...</td>\n",
       "      <td>False</td>\n",
       "      <td>True</td>\n",
       "      <td>False</td>\n",
       "      <td>True</td>\n",
       "      <td>False</td>\n",
       "      <td>46-62</td>\n",
       "      <td>False</td>\n",
       "      <td>False</td>\n",
       "      <td>True</td>\n",
       "      <td>False</td>\n",
       "    </tr>\n",
       "    <tr>\n",
       "      <th>5942</th>\n",
       "      <td>151599</td>\n",
       "      <td>657</td>\n",
       "      <td>Рыбинск</td>\n",
       "      <td>Ж</td>\n",
       "      <td>34.0</td>\n",
       "      <td>0</td>\n",
       "      <td>NaN</td>\n",
       "      <td>2</td>\n",
       "      <td>1</td>\n",
       "      <td>1</td>\n",
       "      <td>...</td>\n",
       "      <td>True</td>\n",
       "      <td>False</td>\n",
       "      <td>False</td>\n",
       "      <td>True</td>\n",
       "      <td>False</td>\n",
       "      <td>25-45</td>\n",
       "      <td>False</td>\n",
       "      <td>True</td>\n",
       "      <td>False</td>\n",
       "      <td>False</td>\n",
       "    </tr>\n",
       "  </tbody>\n",
       "</table>\n",
       "<p>5 rows × 22 columns</p>\n",
       "</div>"
      ],
      "text/plain": [
       "      user_id  score       city gender   age  equity     balance  products  \\\n",
       "1697   176184    917  Ярославль      Ж  62.0       0         NaN         1   \n",
       "6802   201439    908  Ярославль      Ж  72.0       5  1772599.64         3   \n",
       "6592   226143    846  Ярославль      Ж  60.0       3   299567.30         2   \n",
       "54     210764    748    Рыбинск      М  46.0       2   182889.96         1   \n",
       "5942   151599    657    Рыбинск      Ж  34.0       0         NaN         2   \n",
       "\n",
       "      credit_card  last_activity  ...    fem   male  rostov  rybinsk  \\\n",
       "1697            0              0  ...   True  False   False    False   \n",
       "6802            1              0  ...   True  False   False    False   \n",
       "6592            0              0  ...   True  False   False    False   \n",
       "54              1              1  ...  False   True   False     True   \n",
       "5942            1              1  ...   True  False   False     True   \n",
       "\n",
       "      yaroslavl  age_group  18-24  25-45  46-62    63+  \n",
       "1697       True      46-62  False  False   True  False  \n",
       "6802       True        63+  False  False  False   True  \n",
       "6592       True      46-62  False  False   True  False  \n",
       "54        False      46-62  False  False   True  False  \n",
       "5942      False      25-45  False   True  False  False  \n",
       "\n",
       "[5 rows x 22 columns]"
      ]
     },
     "execution_count": 60,
     "metadata": {},
     "output_type": "execute_result"
    }
   ],
   "source": [
    "df['age_group'] = df['age'].apply (age_group)\n",
    "df['age_group_dum']=df['age_group']\n",
    "df = pd.get_dummies(df, columns = ['age_group_dum'])\n",
    "df = df.rename (columns = ({\n",
    "    'age_group_dum_18-24':'18-24', 'age_group_dum_25-45':'25-45','age_group_dum_46-62':'46-62', \n",
    "    'age_group_dum_63+':'63+'}))\n",
    "df.sample(5)"
   ]
  },
  {
   "cell_type": "code",
   "execution_count": 61,
   "id": "a2476fcf",
   "metadata": {},
   "outputs": [
    {
     "data": {
      "text/plain": [
       "<Axes: >"
      ]
     },
     "execution_count": 61,
     "metadata": {},
     "output_type": "execute_result"
    },
    {
     "data": {
      "image/png": "[encoded data removed]",
      "text/plain": [
       "<Figure size 200x800 with 2 Axes>"
      ]
     },
     "metadata": {},
     "output_type": "display_data"
    }
   ],
   "source": [
    "# Построим тепловую карту\n",
    "plt.figure(figsize=(2,8))\n",
    "heat_df = df.corr(numeric_only=True).drop(index='churn')[['churn']].sort_values(by='churn', ascending = False)\n",
    "sns.heatmap (heat_df, annot=True, cmap= 'coolwarm', )"
   ]
  },
  {
   "cell_type": "markdown",
   "id": "acf8e19e",
   "metadata": {},
   "source": [
    "Исходя из тепловой карты наибольшая корреляция оттока имеет со следующими показателями:\n",
    "- Количество продуктов, которыми пользуется клиент\n",
    "- Собственность клиента(чем больше, тем вероятнее уход)\n",
    "- Последняя активность(покидают более активные пользователи)\n",
    "- Пол(Мужчины более склонны покидать, женщины менее)\n",
    "- Рейтинг\n",
    "- Возраст(63+ уходят реже, 46-62 чаще)\n",
    "\n",
    "Рассмотрим эти значения точнее"
   ]
  },
  {
   "cell_type": "markdown",
   "id": "2d0e81af",
   "metadata": {},
   "source": [
    "### Анализ оттока по количеству продуктов"
   ]
  },
  {
   "cell_type": "code",
   "execution_count": 62,
   "id": "4b45ad40",
   "metadata": {},
   "outputs": [
    {
     "data": {
      "text/plain": [
       "<Axes: title={'center': 'Доля ушедших клиентов, в зависимости от количества продуктов'}, xlabel='Количество продуктов', ylabel='% ушедших клиентов'>"
      ]
     },
     "execution_count": 62,
     "metadata": {},
     "output_type": "execute_result"
    },
    {
     "data": {
      "image/png": "[encoded data removed]",
      "text/plain": [
       "<Figure size 1000x600 with 1 Axes>"
      ]
     },
     "metadata": {},
     "output_type": "display_data"
    }
   ],
   "source": [
    "products_churn = df.pivot_table (index = 'products', values = 'churn', aggfunc = ['sum', 'count'])\n",
    "products_churn.columns = ['sum', 'count']\n",
    "products_churn ['%'] = products_churn['sum']/products_churn['count']*100\n",
    "\n",
    "products_churn['%'].plot (\n",
    "    kind='bar', title = 'Доля ушедших клиентов, в зависимости от количества продуктов',\n",
    "    xlabel = 'Количество продуктов', ylabel = '% ушедших клиентов', figsize = (10,6))"
   ]
  },
  {
   "cell_type": "markdown",
   "id": "a1035415",
   "metadata": {},
   "source": [
    "При увеличении количества продуктов увеличивается доля оттока."
   ]
  },
  {
   "cell_type": "markdown",
   "id": "19380424",
   "metadata": {},
   "source": [
    "### Анализ оттока по собственности"
   ]
  },
  {
   "cell_type": "code",
   "execution_count": 63,
   "id": "fe9241f8",
   "metadata": {},
   "outputs": [
    {
     "data": {
      "text/plain": [
       "<Axes: title={'center': 'Доля ушедших клиентов, в зависимости от их собственности'}, xlabel='Оценка собственности', ylabel='% ушедших клиентов'>"
      ]
     },
     "execution_count": 63,
     "metadata": {},
     "output_type": "execute_result"
    },
    {
     "data": {
      "image/png": "[encoded data removed]",
      "text/plain": [
       "<Figure size 1000x600 with 1 Axes>"
      ]
     },
     "metadata": {},
     "output_type": "display_data"
    }
   ],
   "source": [
    "#Построим таблицу и визуализцию отображающую долю ушедших клиентов по собственности\n",
    "\n",
    "equity_churn = df.pivot_table (index = 'equity', values = 'churn', aggfunc = ['sum', 'count'])\n",
    "equity_churn.columns = ['sum', 'count']\n",
    "equity_churn ['%'] = equity_churn['sum']/equity_churn['count']*100\n",
    "\n",
    "equity_churn['%'].plot (\n",
    "    kind='bar', title = 'Доля ушедших клиентов, в зависимости от их собственности',\n",
    "    xlabel = 'Оценка собственности', ylabel = '% ушедших клиентов', figsize = (10,6))"
   ]
  },
  {
   "cell_type": "markdown",
   "id": "c1ce76af",
   "metadata": {},
   "source": [
    "Очевидна зависимость, чем больше собственность клиента, тем больше доля ушедших клиентов"
   ]
  },
  {
   "cell_type": "markdown",
   "id": "1e0bb235",
   "metadata": {},
   "source": [
    "### Анализ оттока по последней активности"
   ]
  },
  {
   "cell_type": "code",
   "execution_count": 64,
   "id": "a4e3ae64",
   "metadata": {},
   "outputs": [
    {
     "data": {
      "text/plain": [
       "<Axes: title={'center': 'Доля ушедших клиентов в зависимости от последней активности'}, xlabel='Активность клиента', ylabel='% ушедших клиентов'>"
      ]
     },
     "execution_count": 64,
     "metadata": {},
     "output_type": "execute_result"
    },
    {
     "data": {
      "image/png": "[encoded data removed]",
      "text/plain": [
       "<Figure size 1200x800 with 1 Axes>"
      ]
     },
     "metadata": {},
     "output_type": "display_data"
    }
   ],
   "source": [
    "# Рассчитаем долю ушедших клиентов в зависимости от последней активности\n",
    "\n",
    "activity_churn = df.pivot_table (index = 'last_activity', values = 'churn', aggfunc = ['sum', 'count'])\n",
    "activity_churn.columns = ['sum', 'count']\n",
    "activity_churn ['%'] = activity_churn['sum']/activity_churn['count']*100\n",
    "\n",
    "activity_churn['%'].plot(\n",
    "    kind='bar', title = 'Доля ушедших клиентов в зависимости от последней активности', figsize = (12,8), \n",
    "    ylabel = '% ушедших клиентов', xlabel = 'Активность клиента')"
   ]
  },
  {
   "cell_type": "markdown",
   "id": "fe1c6d23",
   "metadata": {},
   "source": [
    "По графику видно, что чем больше активность клиента, тем больше доля ушедших клиентов. Активные пользователи сильнее реагируют на изменения, а также в общем склонны искать наилучшие банки и перебегать между ними."
   ]
  },
  {
   "cell_type": "markdown",
   "id": "74f33e5d",
   "metadata": {},
   "source": [
    "### Анализ оттока по кредитным картам"
   ]
  },
  {
   "cell_type": "code",
   "execution_count": 65,
   "id": "e9ffd5e3",
   "metadata": {},
   "outputs": [
    {
     "data": {
      "text/plain": [
       "<Axes: title={'center': 'Доля ушедших клиентов в зависимости от наличия кредитных карт'}, xlabel='Наличие кредитной карты', ylabel='% ушедших клиентов'>"
      ]
     },
     "execution_count": 65,
     "metadata": {},
     "output_type": "execute_result"
    },
    {
     "data": {
      "image/png": "[encoded data removed]",
      "text/plain": [
       "<Figure size 1200x800 with 1 Axes>"
      ]
     },
     "metadata": {},
     "output_type": "display_data"
    }
   ],
   "source": [
    "# Рассчитаем долю ушедших клиентов в зависимости от наличия кредитных карт\n",
    "\n",
    "credit_churn = df.pivot_table (index = 'credit_card', values = 'churn', aggfunc = ['sum', 'count'])\n",
    "credit_churn.columns = ['sum', 'count']\n",
    "credit_churn ['%'] = credit_churn['sum']/credit_churn['count']*100\n",
    "\n",
    "credit_churn['%'].plot(\n",
    "    kind='bar', title = 'Доля ушедших клиентов в зависимости от наличия кредитных карт', figsize = (12,8), \n",
    "    ylabel = '% ушедших клиентов', xlabel = 'Наличие кредитной карты')"
   ]
  },
  {
   "cell_type": "markdown",
   "id": "fd70f814",
   "metadata": {},
   "source": [
    "Заметно, что пользователи без кредитной карты гораздо проще уходят, чем с кредитной карты"
   ]
  },
  {
   "cell_type": "markdown",
   "id": "a0521b94",
   "metadata": {},
   "source": [
    "### Анализ оттока по полу"
   ]
  },
  {
   "cell_type": "code",
   "execution_count": 66,
   "id": "26449ede",
   "metadata": {},
   "outputs": [
    {
     "data": {
      "text/plain": [
       "<Axes: title={'center': 'Доля ушедших клиентов в зависимости от пола'}, xlabel='Пол клиента', ylabel='% ушедших клиентов'>"
      ]
     },
     "execution_count": 66,
     "metadata": {},
     "output_type": "execute_result"
    },
    {
     "data": {
      "image/png": "[encoded data removed]",
      "text/plain": [
       "<Figure size 1200x800 with 1 Axes>"
      ]
     },
     "metadata": {},
     "output_type": "display_data"
    }
   ],
   "source": [
    "# Рассчитаем долю ушедших клиентов в зависимости от пола\n",
    "\n",
    "gender_churn = df.pivot_table (index = 'gender', values = 'churn', aggfunc = ['sum', 'count'])\n",
    "gender_churn.columns = ['sum', 'count']\n",
    "gender_churn ['%'] = gender_churn['sum']/gender_churn['count']*100\n",
    "\n",
    "gender_churn['%'].plot(\n",
    "    kind='bar', title = 'Доля ушедших клиентов в зависимости от пола', figsize = (12,8), \n",
    "    ylabel = '% ушедших клиентов', xlabel = 'Пол клиента')"
   ]
  },
  {
   "cell_type": "markdown",
   "id": "cad1afea",
   "metadata": {},
   "source": [
    "Среди мужчин наблюдается больший отток, чем среди женщин"
   ]
  },
  {
   "cell_type": "markdown",
   "id": "6f0ddc88",
   "metadata": {},
   "source": [
    "### Анализ оттока по рейтингу"
   ]
  },
  {
   "cell_type": "code",
   "execution_count": 67,
   "id": "b6115b21",
   "metadata": {},
   "outputs": [
    {
     "data": {
      "text/plain": [
       "<Axes: title={'center': 'Доля ушедших клиентов в зависимости от рейтинга'}, xlabel='Рейтинг клиента', ylabel='% ушедших клиентов'>"
      ]
     },
     "execution_count": 67,
     "metadata": {},
     "output_type": "execute_result"
    },
    {
     "data": {
      "image/png": "[encoded data removed]",
      "text/plain": [
       "<Figure size 1300x800 with 1 Axes>"
      ]
     },
     "metadata": {},
     "output_type": "display_data"
    }
   ],
   "source": [
    "# Рассчитаем долю ушедших клиентов по рейтингу\n",
    "\n",
    "score_churn = df.pivot_table (index = 'score', values = 'churn', aggfunc = ['sum', 'count'])\n",
    "score_churn.columns = ['sum', 'count']\n",
    "score_churn ['%'] = score_churn['sum']/score_churn['count']*100\n",
    "score_churn = score_churn[score_churn['sum'] == 1]\n",
    "\n",
    "score_churn['%'].plot(\n",
    "    kind='bar', title = 'Доля ушедших клиентов в зависимости от рейтинга', figsize = (13,8), \n",
    "    ylabel = '% ушедших клиентов', xlabel = 'Рейтинг клиента')"
   ]
  },
  {
   "cell_type": "markdown",
   "id": "921f8544",
   "metadata": {},
   "source": [
    "Вырисовываются 2 закономерности:\n",
    "1. При увеличении рейтинга до 770, доля ушедших уменьшается\n",
    "2. При увеличении рейтинга с 770, доля ушедших значительно увеличивается\n",
    "Оценим влияение 1 тенденции по количеству, учитывая что 1 квартиль находится на значении 802"
   ]
  },
  {
   "cell_type": "code",
   "execution_count": 68,
   "id": "d8192525",
   "metadata": {},
   "outputs": [
    {
     "data": {
      "text/plain": [
       "765.0"
      ]
     },
     "execution_count": 68,
     "metadata": {},
     "output_type": "execute_result"
    }
   ],
   "source": [
    "#Посмотрим долю 1 тенденции в проценте от пользователей\n",
    "df['score'].quantile(.1)"
   ]
  },
  {
   "cell_type": "markdown",
   "id": "70692f6b",
   "metadata": {},
   "source": [
    "Так как на 1 тенденцию приходится около 10% измерений, данных относительно мало, за недостаточностью информации сделаем вывод, что до 955 доля ушедших относительно постоянна, в дальнейшем доля начинает значительно расти"
   ]
  },
  {
   "cell_type": "markdown",
   "id": "3a5587b0",
   "metadata": {},
   "source": [
    "### Анализ оттока по возрасту"
   ]
  },
  {
   "cell_type": "code",
   "execution_count": 69,
   "id": "2a3da8fa",
   "metadata": {},
   "outputs": [
    {
     "data": {
      "text/html": [
       "<div>\n",
       "<style scoped>\n",
       "    .dataframe tbody tr th:only-of-type {\n",
       "        vertical-align: middle;\n",
       "    }\n",
       "\n",
       "    .dataframe tbody tr th {\n",
       "        vertical-align: top;\n",
       "    }\n",
       "\n",
       "    .dataframe thead th {\n",
       "        text-align: right;\n",
       "    }\n",
       "</style>\n",
       "<table border=\"1\" class=\"dataframe\">\n",
       "  <thead>\n",
       "    <tr style=\"text-align: right;\">\n",
       "      <th></th>\n",
       "      <th>sum</th>\n",
       "      <th>count</th>\n",
       "      <th>%</th>\n",
       "    </tr>\n",
       "    <tr>\n",
       "      <th>age_group</th>\n",
       "      <th></th>\n",
       "      <th></th>\n",
       "      <th></th>\n",
       "    </tr>\n",
       "  </thead>\n",
       "  <tbody>\n",
       "    <tr>\n",
       "      <th>18-24</th>\n",
       "      <td>30</td>\n",
       "      <td>219</td>\n",
       "      <td>13.698630</td>\n",
       "    </tr>\n",
       "    <tr>\n",
       "      <th>25-45</th>\n",
       "      <td>1139</td>\n",
       "      <td>6147</td>\n",
       "      <td>18.529364</td>\n",
       "    </tr>\n",
       "    <tr>\n",
       "      <th>46-62</th>\n",
       "      <td>611</td>\n",
       "      <td>2723</td>\n",
       "      <td>22.438487</td>\n",
       "    </tr>\n",
       "    <tr>\n",
       "      <th>63+</th>\n",
       "      <td>32</td>\n",
       "      <td>743</td>\n",
       "      <td>4.306864</td>\n",
       "    </tr>\n",
       "  </tbody>\n",
       "</table>\n",
       "</div>"
      ],
      "text/plain": [
       "            sum  count          %\n",
       "age_group                        \n",
       "18-24        30    219  13.698630\n",
       "25-45      1139   6147  18.529364\n",
       "46-62       611   2723  22.438487\n",
       "63+          32    743   4.306864"
      ]
     },
     "execution_count": 69,
     "metadata": {},
     "output_type": "execute_result"
    },
    {
     "data": {
      "image/png": "[encoded data removed]",
      "text/plain": [
       "<Figure size 1200x800 with 1 Axes>"
      ]
     },
     "metadata": {},
     "output_type": "display_data"
    }
   ],
   "source": [
    "# Рассчитаем долю ушедших клиентов в зависимости от возраста\n",
    "\n",
    "age_churn = df.pivot_table (index = 'age_group', values = 'churn', aggfunc = ['sum', 'count'])\n",
    "age_churn.columns = ['sum', 'count']\n",
    "age_churn ['%'] = age_churn['sum']/age_churn['count']*100\n",
    "\n",
    "age_churn['%'].plot(\n",
    "    kind='bar', title = 'Доля ушедших клиентов в зависимости от возраста', figsize = (12,8), \n",
    "    ylabel = '% ушедших клиентов', xlabel = 'Возрастная категория клиента')\n",
    "\n",
    "age_churn"
   ]
  },
  {
   "cell_type": "markdown",
   "id": "06fab928",
   "metadata": {},
   "source": [
    "1. Наибольшей долей оттока обладают клиенты 46-62 (22.4%)\n",
    "2. В сегменте 25-45 заметен отток около 18,5%, что чуть ниже среднего значения, но значительно больше двух оставшихся категорий\n",
    "3. Категории до 25 и более 63 характеризуются малым количеством пользователей (чуть меньше 1000 в сумме) и небольшой долей отточных клиентов"
   ]
  },
  {
   "cell_type": "markdown",
   "id": "28ac2446",
   "metadata": {},
   "source": [
    "**В ходе исследовательского анализа данных построено распределение оттока по возрасту и построены возрастные категории. Построен хитмеп для отображения зависимости оттока от различных переменных. По наибольшим корреляциям были построены графики, отображающие отток по каждой категории. В ходе исследования получены следующие выводы:**\n",
    "- Клиенты которые имеют 3 и более продуктов чаще среднего покидали компанию\n",
    "- По оценке собственности значительное превышение среднего значения начинается с 4\n",
    "- Активные клиенты чаще покидали компанию\n",
    "- Среди отточных клиентов значительно больше мужчин\n",
    "- Клиенты с кредитной карты меньше подвержены оттоку\n",
    "- Заметен отток клиентов с рейтингом 950+\n",
    "\n",
    "- По возрастным группам заметна следующая тенденция: \n",
    "1. Наибольшей долей оттока обладают клиенты 46-62 (22.4%)\n",
    "2. В сегменте 25-45 заметен отток около 18,5%, что чуть ниже среднего значения, но значительно больше двух оставшихся категорий\n",
    "3. Категории до 25 и более 63 характеризуются малым количеством пользователей (чуть меньше 1000 в сумме) и небольшой долей отточных клиентов"
   ]
  },
  {
   "cell_type": "markdown",
   "id": "7474caf4",
   "metadata": {},
   "source": [
    "## Статистический анализ данных"
   ]
  },
  {
   "cell_type": "code",
   "execution_count": 70,
   "id": "e6eaf636",
   "metadata": {},
   "outputs": [
    {
     "name": "stderr",
     "output_type": "stream",
     "text": [
      "C:\\Users\\Hasee\\AppData\\Local\\Temp\\ipykernel_11796\\4106060789.py:2: UserWarning: \n",
      "\n",
      "`distplot` is a deprecated function and will be removed in seaborn v0.14.0.\n",
      "\n",
      "Please adapt your code to use either `displot` (a figure-level function with\n",
      "similar flexibility) or `histplot` (an axes-level function for histograms).\n",
      "\n",
      "For a guide to updating your code to use the new functions, please see\n",
      "https://gist.github.com/mwaskom/de44147ed2974457ad6372750bbe5751\n",
      "\n",
      "  sns.distplot(df[df['churn']==0]['est_salary'],label='1')\n",
      "C:\\Users\\Hasee\\AppData\\Local\\Temp\\ipykernel_11796\\4106060789.py:3: UserWarning: \n",
      "\n",
      "`distplot` is a deprecated function and will be removed in seaborn v0.14.0.\n",
      "\n",
      "Please adapt your code to use either `displot` (a figure-level function with\n",
      "similar flexibility) or `histplot` (an axes-level function for histograms).\n",
      "\n",
      "For a guide to updating your code to use the new functions, please see\n",
      "https://gist.github.com/mwaskom/de44147ed2974457ad6372750bbe5751\n",
      "\n",
      "  sns.distplot(df[df['churn']==1]['est_salary'],label='0')\n"
     ]
    },
    {
     "data": {
      "image/png": "[encoded data removed]",
      "text/plain": [
       "<Figure size 640x480 with 1 Axes>"
      ]
     },
     "metadata": {},
     "output_type": "display_data"
    }
   ],
   "source": [
    "#Проверим является ли распределение нормальным для проведения t теста\n",
    "sns.distplot(df[df['churn']==0]['est_salary'],label='1')\n",
    "sns.distplot(df[df['churn']==1]['est_salary'],label='0')\n",
    "plt.title('Распределение estimated_salary',fontsize=16)\n",
    "plt.legend()\n",
    "plt.show()"
   ]
  },
  {
   "cell_type": "markdown",
   "id": "5e9bdea5",
   "metadata": {},
   "source": [
    "Так как распределение близко к нормальном, и мы имеем 2 независимые выборки самым удобным методом проверки гипотезы является тест Стьюдента"
   ]
  },
  {
   "cell_type": "markdown",
   "id": "888f46f8",
   "metadata": {},
   "source": [
    "### Различие дохода между отточными и оставшимися клиентами"
   ]
  },
  {
   "cell_type": "markdown",
   "id": "e4e2f269",
   "metadata": {},
   "source": [
    "Выдвинем гипотезы:\n",
    "\n",
    "H0 - доход отточных и оставщихся пользователей равен\n",
    "\n",
    "H1 - доход отточных и оставщихся пользователей не равен"
   ]
  },
  {
   "cell_type": "code",
   "execution_count": 71,
   "id": "caf0fbf1",
   "metadata": {},
   "outputs": [
    {
     "name": "stdout",
     "output_type": "stream",
     "text": [
      "0.8915736718749708\n",
      "Не получилось отвергнуть нулевую гипотезу\n"
     ]
    }
   ],
   "source": [
    "results = st.ttest_ind (\n",
    "    df[df['churn']==0]['est_salary'],\n",
    "    df[df['churn']==1]['est_salary'], equal_var = False)\n",
    "\n",
    "alpha = 0.05\n",
    "\n",
    "\n",
    "print (results.pvalue) \n",
    "\n",
    "\n",
    "if results.pvalue < alpha:\n",
    "    print ('Отвергаем нулевую гипотезу')\n",
    "else:\n",
    "    print ('Не получилось отвергнуть нулевую гипотезу')"
   ]
  },
  {
   "cell_type": "markdown",
   "id": "e2e58a14",
   "metadata": {},
   "source": [
    "По результатам тестам мы не можем отвергнуть нулевую гипотезу, поэтому будем считать, что доходы отточных и оставшихся пользователей "
   ]
  },
  {
   "cell_type": "markdown",
   "id": "8eb27de0",
   "metadata": {},
   "source": [
    "### Различие рейтинга между отточными и оставшимися пользователями"
   ]
  },
  {
   "cell_type": "markdown",
   "id": "772687d4",
   "metadata": {},
   "source": [
    "Сформулируем гипотезы\n",
    "\n",
    "H0 - рейтинг оставшихся и отточных пользователей равны\n",
    "\n",
    "H1 - рейтинг оставшихся и отточных пользователей не равны"
   ]
  },
  {
   "cell_type": "code",
   "execution_count": 72,
   "id": "e619f2ef",
   "metadata": {},
   "outputs": [
    {
     "name": "stdout",
     "output_type": "stream",
     "text": [
      "1.7100221361709243e-36\n",
      "Отвергаем нулевую гипотезу\n"
     ]
    }
   ],
   "source": [
    "results = st.ttest_ind (\n",
    "    df[df['churn']==0]['score'],\n",
    "    df[df['churn']==1]['score'], equal_var = False)\n",
    "\n",
    "alpha = 0.05\n",
    "\n",
    "\n",
    "print (results.pvalue) \n",
    "\n",
    "\n",
    "if results.pvalue < alpha:\n",
    "    print ('Отвергаем нулевую гипотезу')\n",
    "else:\n",
    "    print ('Не получилось отвергнуть нулевую гипотезу')"
   ]
  },
  {
   "cell_type": "markdown",
   "id": "7d94bd0b",
   "metadata": {},
   "source": [
    "Вывод t теста подвтерждает выод на этапе исследовательского анализа о неравенстве рейтинга среди отточных и оставшихся пользователей"
   ]
  },
  {
   "cell_type": "markdown",
   "id": "d13ca8de",
   "metadata": {},
   "source": [
    "**В ходе статистического анализа были проверены следующие гипотезы:**\n",
    "1. Нельзя отвергнуть нулевую гипотезу, поэтому будем считать, что доходы отточных и оставшихся пользователей \n",
    "2. Вывод t теста подвтерждает выод на этапе исследовательского анализа о неравенстве рейтинга среди отточных и оставшихся пользователей"
   ]
  },
  {
   "cell_type": "markdown",
   "id": "af7c7f8b",
   "metadata": {},
   "source": [
    "## Сегментация"
   ]
  },
  {
   "cell_type": "markdown",
   "id": "32700495",
   "metadata": {},
   "source": [
    "**Сегмент 1:**\n",
    "\n",
    "- Собственность 5 и более\n",
    "- Последняя активность\n",
    "- Возраст 25-62\n"
   ]
  },
  {
   "cell_type": "code",
   "execution_count": 73,
   "id": "982d5a9a",
   "metadata": {},
   "outputs": [
    {
     "name": "stdout",
     "output_type": "stream",
     "text": [
      "Количество людей в сегменте 1064\n",
      "Количество отточных клиентов 503\n",
      "Доля отточных клиентов 47.3\n"
     ]
    }
   ],
   "source": [
    " first_cluster = df.query( ' equity > 4 and last_activity==1 and age > 24  and age < 63')\n",
    "\n",
    "first_rate = first_cluster['churn'].sum() / first_cluster['churn'].count() * 100\n",
    "first_sum = first_cluster['churn'].sum()\n",
    "first_count = first_cluster['churn'].count()\n",
    "\n",
    "print('Количество людей в сегменте', first_count)\n",
    "print('Количество отточных клиентов', first_sum)\n",
    "print('Доля отточных клиентов', first_rate.round(1))"
   ]
  },
  {
   "cell_type": "markdown",
   "id": "b540fd2d",
   "metadata": {},
   "source": [
    "**Сегмент 2:**\n",
    "\n",
    "- Количество продуктов 3 и более\n",
    "- Мужской пол\n",
    "- Возраст 25-62"
   ]
  },
  {
   "cell_type": "code",
   "execution_count": 74,
   "id": "531d3466",
   "metadata": {},
   "outputs": [
    {
     "name": "stdout",
     "output_type": "stream",
     "text": [
      "Количество людей в сегменте 708\n",
      "Количество отточных клиентов 363\n",
      "Доля отточных клиентов 51.3\n"
     ]
    }
   ],
   "source": [
    "second_cluster = df.query( ' products > 2  and gender == \"М\" and age > 24  and age < 63')\n",
    "\n",
    "second_rate = second_cluster['churn'].sum() / second_cluster['churn'].count() * 100\n",
    "second_sum = second_cluster['churn'].sum()\n",
    "second_count = second_cluster['churn'].count()\n",
    "\n",
    "print('Количество людей в сегменте', second_count)\n",
    "print('Количество отточных клиентов', second_sum)\n",
    "print('Доля отточных клиентов', second_rate.round(1))"
   ]
  },
  {
   "cell_type": "markdown",
   "id": "cdfa3b11",
   "metadata": {},
   "source": [
    "**Сегмент 3:**\n",
    "\n",
    "- Последняя активность\n",
    "- Мужской пол\n",
    "- Нет кредитной карты"
   ]
  },
  {
   "cell_type": "code",
   "execution_count": 75,
   "id": "e1e081e3",
   "metadata": {},
   "outputs": [
    {
     "name": "stdout",
     "output_type": "stream",
     "text": [
      "Количество людей в сегменте 715\n",
      "Количество отточных клиентов 302\n",
      "Доля отточных клиентов 42.2\n"
     ]
    }
   ],
   "source": [
    "third_cluster = df.query( 'gender == \"М\" and last_activity==1 and credit_card == 0 ')\n",
    "\n",
    "third_rate = third_cluster['churn'].sum() / third_cluster['churn'].count() * 100\n",
    "third_sum = third_cluster['churn'].sum()\n",
    "third_count = third_cluster['churn'].count()\n",
    "\n",
    "print('Количество людей в сегменте', third_count)\n",
    "print('Количество отточных клиентов', third_sum)\n",
    "print('Доля отточных клиентов', third_rate.round(1))"
   ]
  },
  {
   "cell_type": "markdown",
   "id": "6d0380dd",
   "metadata": {},
   "source": [
    "**Сегмент 4:**\n",
    "\n",
    "- Мужской пол\n",
    "- Количество продуктов = 4"
   ]
  },
  {
   "cell_type": "code",
   "execution_count": 76,
   "id": "8f913b4b",
   "metadata": {},
   "outputs": [
    {
     "name": "stdout",
     "output_type": "stream",
     "text": [
      "Количество людей в сегменте 292\n",
      "Количество отточных клиентов 200\n",
      "Доля отточных клиентов 68.5\n"
     ]
    }
   ],
   "source": [
    "fourth_cluster = df.query('gender == \"М\"  and products == 4')\n",
    "\n",
    "fourth_rate = fourth_cluster['churn'].sum() / fourth_cluster['churn'].count() * 100\n",
    "fourth_sum = fourth_cluster['churn'].sum()\n",
    "fourth_count = fourth_cluster['churn'].count()\n",
    "\n",
    "print('Количество людей в сегменте', fourth_count)\n",
    "print('Количество отточных клиентов', fourth_sum)\n",
    "print('Доля отточных клиентов', fourth_rate.round(1))"
   ]
  },
  {
   "cell_type": "markdown",
   "id": "2e3d57b2",
   "metadata": {},
   "source": [
    "**Сегмент 5:** наименее отточный"
   ]
  },
  {
   "cell_type": "code",
   "execution_count": 77,
   "id": "b9e43984",
   "metadata": {},
   "outputs": [
    {
     "name": "stdout",
     "output_type": "stream",
     "text": [
      "Количество людей в сегменте 2298\n",
      "Количество отточных клиентов 129\n",
      "Доля отточных клиентов 5.6\n"
     ]
    }
   ],
   "source": [
    "fifth_cluster = df.query('gender == \"Ж\"  and last_activity==0')\n",
    "\n",
    "fifth_rate = fifth_cluster['churn'].sum() / fifth_cluster['churn'].count() * 100\n",
    "fifth_sum = fifth_cluster['churn'].sum()\n",
    "fifth_count = fifth_cluster['churn'].count()\n",
    "\n",
    "print('Количество людей в сегменте', fifth_count)\n",
    "print('Количество отточных клиентов', fifth_sum)\n",
    "print('Доля отточных клиентов', fifth_rate.round(1))"
   ]
  },
  {
   "cell_type": "markdown",
   "id": "0d1dac3c",
   "metadata": {},
   "source": [
    "Построим график, отображающий общее количество клиентов в каждом кластере и количество отточных клиентов"
   ]
  },
  {
   "cell_type": "code",
   "execution_count": 78,
   "id": "a3f962c6",
   "metadata": {},
   "outputs": [
    {
     "data": {
      "text/plain": [
       "<Axes: >"
      ]
     },
     "execution_count": 78,
     "metadata": {},
     "output_type": "execute_result"
    },
    {
     "data": {
      "image/png": "[encoded data removed]",
      "text/plain": [
       "<Figure size 1000x700 with 1 Axes>"
      ]
     },
     "metadata": {},
     "output_type": "display_data"
    }
   ],
   "source": [
    "data = [\n",
    "    [first_count, first_sum],\n",
    "    [second_count, second_sum],\n",
    "    [third_count, third_sum],\n",
    "    [fourth_count, fourth_sum],\n",
    "    [fifth_count, fifth_sum]\n",
    "]\n",
    "\n",
    "plot_data = pd.DataFrame(data, columns=['Количество клиентов', 'Отточных'])\n",
    "plot_data.index = plot_data.index + 1\n",
    "\n",
    "\n",
    "plot_data.plot(kind='bar', figsize=(10, 7))\n"
   ]
  },
  {
   "cell_type": "markdown",
   "id": "a083e0d4",
   "metadata": {},
   "source": [
    "**По итогу сегментации выделили следующие сегменты**\n",
    "1. Активные клиенты 25-62 с собственностью 5 и более\n",
    "2. Мужчины возраста 25-62 с 3 и более продуктами\n",
    "3. Активные мужчины без кредитной карты\n",
    "4. Обладает малым охватом но наибольшей отточностью - мужчины с 4 продуктами (292 людей в сегменте 68.5% оттока)\n",
    "5. Большой сегмент обладающим низким оттоком - неактивные женщины\n",
    "\n",
    "\n",
    "\n",
    "\n",
    "Исходя из этого можно сделать следующие рекомендации для отдела менеджмента:\n",
    "1. Необходимо проверить последние изменения и фидбек по ним, так как заметно, что активные пользователи, которые чувствительнее ощущают все изменения проявляют большую отточность. Возможно некоторые изменения стоит откатить или имплементировать медленнее\n",
    "2. Сделать отдельный сегмент для работы с клиентами с большой собственностью и большим количеством продуктов, так как премиальные клиенты ощущают неудовлетворенность и обладают наибольшей долей оттока\n",
    "3. Также стоит расширять количество кредитных карт среди пользователей, так как пользователи кредитных карт значительно реже \n",
    "4. Создать дополнительные выгодные условия для премиальных клиентов: повышенный кешбек на премиальные карты, льготная страховка имущества\n",
    "5. Дополнительно стоит расширить количество пользователей пенсионного возраста предлагая льготные условия при переводе пенсии на счета метанпромбанка"
   ]
  },
  {
   "cell_type": "markdown",
   "id": "74975fce",
   "metadata": {},
   "source": [
    "## Вывод"
   ]
  },
  {
   "cell_type": "markdown",
   "id": "3d922041",
   "metadata": {},
   "source": [
    "1. При подготовке данных совершены следуюзие действия:\n",
    "- Загружены библиотеки и данные\n",
    "- Проверены явные и неявные дубликаты\n",
    "- Столбцы приведены к змеиному регистру\n",
    "- Заменены типы данных\n",
    "- Убраны выбросы\n",
    "\n",
    "2. В ходе исследовательского анализа данных построено распределение оттока по возрасту и построены возрастные категории. Построен хитмеп для отображения зависимости оттока от различных переменных. По наибольшим корреляциям были построены графики, отображающие отток по каждой категории. В ходе исследования получены следующие выводы:\n",
    "- Клиенты которые имеют 3 и более продуктов чаще среднего покидали компанию\n",
    "- По оценке собственности значительное превышение среднего значения начинается с 4\n",
    "- Активные клиенты чаще покидали компанию\n",
    "- Среди отточных клиентов значительно больше мужчин\n",
    "- Клиенты с кредитной карты меньше подвержены оттоку\n",
    "- Заметен отток клиентов с рейтингом 950+\n",
    "\n",
    "- По возрастным группам заметна следующая тенденция: \n",
    "1. Наибольшей долей оттока обладают клиенты 46-62 (22.4%)\n",
    "2. В сегменте 25-45 заметен отток около 18,5%, что чуть ниже среднего значения, но значительно больше двух оставшихся категорий\n",
    "3. Категории до 25 и более 63 характеризуются малым количеством пользователей (чуть меньше 1000 в сумме) и небольшой долей отточных клиентов\n",
    "\n",
    "\n",
    "3. В ходе статистического анализа были проверены следующие гипотезы:\n",
    "- Нельзя отвергнуть нулевую гипотезу, поэтому будем считать, что доходы отточных и оставшихся пользователей \n",
    "- Вывод t теста подвтерждает выод на этапе исследовательского анализа о неравенстве рейтинга среди отточных и оставшихся пользователей\n",
    "\n",
    "4. По итогу сегментации выделили следующие сегменты\n",
    "- Активные клиенты 25-62 с собственностью 5 и более\n",
    "- Мужчины возраста 25-62 с 3 и более продуктами\n",
    "- Активные мужчины без кредитной карты\n",
    "- Обладает малым охватом но наибольшей отточностью - мужчины с 4 продуктами (292 людей в сегменте 68.5% оттока)\n",
    "- Большой сегмент обладающим низким оттоком - неактивные женщины\n",
    "\n",
    "\n",
    "\n",
    "\n",
    "Исходя из этого можно сделать следующие рекомендации для отдела менеджмента:\n",
    "1. Необходимо проверить последние изменения и фидбек по ним, так как заметно, что активные пользователи, которые чувствительнее ощущают все изменения проявляют большую отточность. Возможно некоторые изменения стоит откатить или имплементировать медленнее\n",
    "2. Сделать отдельный сегмент для работы с клиентами с большой собственностью и большим количеством продуктов, так как премиальные клиенты ощущают неудовлетворенность и обладают наибольшей долей оттока\n",
    "3. Также стоит расширять количество кредитных карт среди пользователей, так как пользователи кредитных карт значительно реже \n",
    "4. Создать дополнительные выгодные условия для премиальных клиентов: повышенный кешбек на премиальные карты, льготная страховка имущества\n",
    "5. Дополнительно стоит расширить количество пользователей пенсионного возраста предлагая льготные условия при переводе пенсии на счета метанпромбанка"
   ]
  }
 ],
 "metadata": {
  "kernelspec": {
   "display_name": "base",
   "language": "python",
   "name": "python3"
  },
  "language_info": {
   "codemirror_mode": {
    "name": "ipython",
    "version": 3
   },
   "file_extension": ".py",
   "mimetype": "text/x-python",
   "name": "python",
   "nbconvert_exporter": "python",
   "pygments_lexer": "ipython3",
   "version": "3.11.5"
  }
 },
 "nbformat": 4,
 "nbformat_minor": 5
}
